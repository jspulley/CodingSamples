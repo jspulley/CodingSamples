{
 "cells": [
  {
   "cell_type": "code",
   "execution_count": 1,
   "id": "339298c0-b1c8-45d7-8726-d3599727e17d",
   "metadata": {
    "tags": []
   },
   "outputs": [],
   "source": [
    "import pandas as pd\n",
    "import io\n",
    "import os\n",
    "import matplotlib.pyplot as plt\n",
    "import seaborn as sns\n",
    "import numpy as np\n",
    "import datetime as dt"
   ]
  },
  {
   "cell_type": "code",
   "execution_count": 2,
   "id": "44eb08bf-f6fb-4900-9ba8-6646a50b5495",
   "metadata": {
    "tags": []
   },
   "outputs": [],
   "source": [
    "wd = os.getcwd() + '\\\\'"
   ]
  },
  {
   "cell_type": "markdown",
   "id": "763886c2-a1cc-4c37-ac01-928fac977018",
   "metadata": {},
   "source": [
    "# All merged data is available near the bottom under \"dartmouthdata\" excel file"
   ]
  },
  {
   "cell_type": "code",
   "execution_count": 3,
   "id": "8a4dacca-a949-4e41-8ffa-807a99085b19",
   "metadata": {
    "tags": []
   },
   "outputs": [],
   "source": [
    "# Creates a data dictionary for state to abbreviation\n",
    "\n",
    "us_state_to_abbrev = {\n",
    "    \"Alabama\": \"AL\", \"Alaska\": \"AK\", \"Arizona\": \"AZ\", \"Arkansas\": \"AR\", \"California\": \"CA\", \"Colorado\": \"CO\", \"Connecticut\": \"CT\",\n",
    "    \"Delaware\": \"DE\",\"Florida\": \"FL\",\"Georgia\": \"GA\",\"Hawaii\": \"HI\",\"Idaho\": \"ID\",\"Illinois\": \"IL\",\"Indiana\": \"IN\",\"Iowa\": \"IA\",\n",
    "    \"Kansas\": \"KS\", \"Kentucky\": \"KY\", \"Louisiana\": \"LA\", \"Maine\": \"ME\", \"Maryland\": \"MD\", \"Massachusetts\": \"MA\", \"Michigan\": \"MI\", \"Minnesota\": \"MN\",\n",
    "    \"Mississippi\": \"MS\",  \"Missouri\": \"MO\",  \"Montana\": \"MT\", \"Nebraska\": \"NE\", \"Nevada\": \"NV\", \"New Hampshire\": \"NH\", \"New Jersey\": \"NJ\",\n",
    "    \"New Mexico\": \"NM\", \"New York\": \"NY\", \"North Carolina\": \"NC\", \"North Dakota\": \"ND\", \"Ohio\": \"OH\", \"Oklahoma\": \"OK\", \"Oregon\": \"OR\",\n",
    "    \"Pennsylvania\": \"PA\", \"Rhode Island\": \"RI\", \"South Carolina\": \"SC\", \"South Dakota\": \"SD\", \"Tennessee\": \"TN\", \"Texas\": \"TX\", \"Utah\": \"UT\",\n",
    "    \"Vermont\": \"VT\", \"Virginia\": \"VA\", \"Washington\": \"WA\", \"West Virginia\": \"WV\", \"Wisconsin\": \"WI\", \"Wyoming\": \"WY\",\n",
    "    \"District of Columbia\": \"DC\", \"American Samoa\": \"AS\", \"Guam\": \"GU\", \"Northern Mariana Islands\": \"MP\", \"Puerto Rico\": \"PR\",  \"United States Minor Outlying Islands\": \"UM\",\n",
    "    \"U.S. Virgin Islands\": \"VI\",\n",
    "}\n",
    "    \n",
    "# invert the dictionary\n",
    "abbrev_to_us_state = dict(map(reversed, us_state_to_abbrev.items()))"
   ]
  },
  {
   "cell_type": "code",
   "execution_count": 4,
   "id": "9994fc48-d253-4bb5-bac2-f31a3c3fb5a5",
   "metadata": {
    "tags": []
   },
   "outputs": [],
   "source": [
    "renamer = {'state_y':'state', 'county_y':'county'}"
   ]
  },
  {
   "cell_type": "markdown",
   "id": "5e61db44-e629-4427-b890-13248a5bdb46",
   "metadata": {},
   "source": [
    "# Hospital to HSA crosswalk (2007 - 2015)\n",
    "\n",
    "### Years - 07, 08, 09 are copies of 10 b/c they do not exist separately. There is another file that gives reason to believe this is not violative"
   ]
  },
  {
   "cell_type": "code",
   "execution_count": 5,
   "id": "a61e30e7-e55b-4fc3-b3e0-f05f7208d289",
   "metadata": {},
   "outputs": [],
   "source": [
    "yearlist = ['07', '08', '09', '10', '11','12','13','14','15', '16', '17']\n",
    "collist = ['PROVIDER', 'HSA', 'HSANAME', 'FCNTYNAME', 'TEACHSTATUS']\n",
    "nameslist = ['provider.id', 'hsa.num', 'hsa.name', 'fcntyname', 'teachstatus', 'year', 'state', 'county']\n",
    "\n",
    "crosswalk = pd.DataFrame()\n",
    "\n",
    "for i in yearlist:\n",
    "    data = pd.read_excel(wd + 'Crosswalks\\\\' + 'hosp{0}.xlsx'.format(i), usecols = collist)\n",
    "    \n",
    "    year = '20{}'.format(i)\n",
    "    year = int(year)\n",
    "    data['year'] = year\n",
    "    \n",
    "    if '-' in data['FCNTYNAME'][0]:\n",
    "        data[['state', 'county', 'dropme']] = data['FCNTYNAME'].str.split('-', expand = True)\n",
    "    else:\n",
    "        data[['county', 'state']] = data['FCNTYNAME'].str.split(',', expand = True)\n",
    "    \n",
    "    crosswalk = pd.concat([crosswalk, data])\n",
    "    \n",
    "    \n",
    "crosswalk.reset_index(inplace = True)\n",
    "\n",
    "crosswalk.drop(['dropme', 'index'], axis  = 1, inplace = True)\n",
    "crosswalk['county'] = crosswalk['county'].str.replace(' County', '')\n",
    "crosswalk['county'] = crosswalk['county'].str.strip()\n",
    "crosswalk['county'] = crosswalk['county'].str.title()\n",
    "\n",
    "\n",
    "crosswalk.columns = nameslist\n",
    "crosswalk['provider.id'] = pd.to_numeric(crosswalk['provider.id'], errors = 'coerce')\n",
    "\n",
    "### Recode the hospital teaching status to a numeric number\n",
    "for i in crosswalk.index:\n",
    "    if str(crosswalk.loc[i, 'teachstatus']) == 'nan':\n",
    "        crosswalk.loc[i, 'teachstatus'] = 0\n",
    "    elif str(crosswalk.loc[i, 'teachstatus']) == 'Major Teaching':\n",
    "        crosswalk.loc[i, 'teachstatus'] = 3\n",
    "    elif str(crosswalk.loc[i, 'teachstatus']) == 'Minor Teaching':\n",
    "        crosswalk.loc[i, 'teachstatus'] = 2\n",
    "    else:\n",
    "        crosswalk.loc[i, 'teachstatus'] = 1\n",
    "        \n",
    "crosswalk['teachstatus'] = pd.to_numeric(crosswalk['teachstatus'], errors = 'coerce')"
   ]
  },
  {
   "cell_type": "code",
   "execution_count": 6,
   "id": "2e1b5da9-5116-4169-b207-8039ca26d430",
   "metadata": {
    "tags": []
   },
   "outputs": [],
   "source": [
    "crosswalk['state'] = crosswalk['state'].str.strip()\n",
    "crosswalk = crosswalk.loc[crosswalk['state'].str.len() == 2]\n"
   ]
  },
  {
   "cell_type": "code",
   "execution_count": 7,
   "id": "20a612b4-2829-4ff5-b333-8a5f7c4f1259",
   "metadata": {
    "tags": []
   },
   "outputs": [],
   "source": [
    "newstate = [abbrev_to_us_state[state] for state in crosswalk['state']]\n",
    "crosswalk.loc[:,'state'] = newstate\n",
    "crosswalk['state'] = crosswalk['state'].str.title()\n",
    "crosswalk['state'] = crosswalk['state'].str.strip()"
   ]
  },
  {
   "cell_type": "markdown",
   "id": "d2ad9a46-1bf7-4972-b0af-b9ae06661ce3",
   "metadata": {
    "tags": []
   },
   "source": [
    "### This subsection creates the crosswalk for County to HSA"
   ]
  },
  {
   "cell_type": "code",
   "execution_count": 8,
   "id": "472ff3e3-f829-4423-a019-34624d8d0a63",
   "metadata": {
    "tags": []
   },
   "outputs": [],
   "source": [
    "hsa_crosswalk = crosswalk.drop(['provider.id', 'hsa.name', 'fcntyname', 'teachstatus', 'year'], axis = 1)\n",
    "grouped = hsa_crosswalk.groupby(['hsa.num', 'county'])['state'].agg(pd.Series.mode)\n",
    "hsa_crosswalk = grouped.reset_index()"
   ]
  },
  {
   "cell_type": "markdown",
   "id": "3643466d-929a-454a-87ab-5c4a4f6879ff",
   "metadata": {},
   "source": [
    "# Mortality Data (2005-2017) - HSA"
   ]
  },
  {
   "cell_type": "code",
   "execution_count": 9,
   "id": "ff576a51-7a3d-4e2e-8c6a-605c74394dcd",
   "metadata": {
    "tags": []
   },
   "outputs": [],
   "source": [
    "### Grab  and create a dataframe from all the data\n",
    "\n",
    "yearlist = ['05', '06', '07', '08', '09', '10', '11','12','13','14','15','16','17']\n",
    "nameslist = ['hsa.num', 'hsa.name', 'med.enrollee', 'tot.mort.%', 'non.hmo.mort.%', 'year']\n",
    "\n",
    "ogcols = ['HSA #', 'HSA Name', 'Medicare Enrollees', \n",
    "                             'Total Mortality: ASR-adjusted Percent of Deaths among Medicare Enrollees',\n",
    "                             'Non-HMO Mortality: ASR-adjusted Percent of Deaths among Medicare Enrollees without HMO Coverage',\n",
    "                             'Year']\n",
    "mortality = pd.DataFrame()\n",
    "\n",
    "for i in yearlist:\n",
    "    data = pd.read_csv(wd + 'Mortality\\\\' + '20{}_mortality_hsa.csv'.format(i))\n",
    "    if data.shape[1] == 5:\n",
    "        year = '20{}'.format(i)\n",
    "        year = int(year)\n",
    "        data['year'] = year\n",
    "        data.columns = nameslist\n",
    "    else: \n",
    "        data = data.reindex(columns=ogcols)\n",
    "        data.columns = nameslist\n",
    "        \n",
    "    mortality= pd.concat([mortality, data])\n",
    "\n",
    "### Reset the index and fix the county/state labelling\n",
    "\n",
    "mortality.reset_index(inplace = True)\n",
    "mortality[['state', 'county', 'dropme']] = mortality['hsa.name'].str.split('-', expand = True)\n",
    "mortality.drop('dropme', axis =1, inplace = True)\n",
    "mortality['county'] = mortality['county'].str.title()\n",
    "\n",
    "\n",
    "### Force the data to be numeric where appropriate\n",
    "\n",
    "mortality['med.enrollee'] = mortality['med.enrollee'].str.replace(',','')\n",
    "\n",
    "for name in ['tot.mort.%', 'non.hmo.mort.%', 'med.enrollee']:\n",
    "   \n",
    "    mortality[name] = pd.to_numeric(mortality[name], errors = 'coerce')\n",
    "    \n",
    "    # I\"m not sure why, but this version of removing -88888 values is the only one that doesn't f the data\n",
    "    mortality = mortality.loc[~(mortality[name] == -88888)]\n"
   ]
  },
  {
   "cell_type": "code",
   "execution_count": 10,
   "id": "003c477f-40b7-45e2-b1f6-63643d7ecf69",
   "metadata": {
    "tags": []
   },
   "outputs": [],
   "source": [
    "mortality1 = pd.merge(mortality, hsa_crosswalk, on = ['hsa.num'], how = 'left', indicator = True)"
   ]
  },
  {
   "cell_type": "code",
   "execution_count": 11,
   "id": "c7347d01-314c-4dc1-8750-91b6ce146e8b",
   "metadata": {
    "tags": []
   },
   "outputs": [],
   "source": [
    "mortality1 = mortality1.groupby(['state_y', 'county_y', 'year']).mean(numeric_only = True).reset_index()"
   ]
  },
  {
   "cell_type": "code",
   "execution_count": null,
   "id": "8e1cd617-13a5-4037-90ad-7b83069ee159",
   "metadata": {
    "tags": []
   },
   "outputs": [],
   "source": []
  },
  {
   "cell_type": "code",
   "execution_count": 12,
   "id": "122255c4-73c8-46a4-8476-06e06e1df967",
   "metadata": {
    "tags": []
   },
   "outputs": [],
   "source": [
    "mortality1['year'] = pd.to_datetime(mortality1['year'].astype(str))\n",
    "mortality1 = mortality1.rename(columns = renamer)\n",
    "mortality1.set_index(['state', 'county', 'year'], inplace = True)"
   ]
  },
  {
   "cell_type": "markdown",
   "id": "882977cc-b408-44a6-8a2b-9ea7825cf3cc",
   "metadata": {},
   "source": [
    "# Medical Discharge Data (2005 - 2015) - HSA"
   ]
  },
  {
   "cell_type": "code",
   "execution_count": 13,
   "id": "8b092f97",
   "metadata": {
    "tags": []
   },
   "outputs": [],
   "source": [
    "### Grab  and create a dataframe from all the data\n",
    "\n",
    "yearlist = ['05', '06', '07', '08', '09', '10', '11','12','13','14','15']\n",
    "\n",
    "\n",
    "nameslist = ['hsa.num', 'hsa.label', 'med.enrollee', 'med.dis.per.1000', 'med.dis.noacs.per.1000', 'dis.amb.care.per.1000', \n",
    "             'dis.conv.per.1000', 'dis.copd.per.1000', 'dis.bact.pneu.per.1000', 'dis.asth.per.1000', 'dis.chf.per.1000', \n",
    "             'dis.hpt.per.1000', 'dis.angi.per.1000', 'dis.cell.per.1000', 'dis.diab.per.1000', 'dis.gast.per.1000', 'dis.kid.per.1000', 'dis.dehyd.per.1000', 'year']\n",
    "\n",
    "med_discharge = pd.DataFrame()\n",
    "\n",
    "for i in yearlist:\n",
    "    data = pd.read_csv(wd + 'MedicalDischarges\\\\' + '20{}_med_discharges_hsa.csv'.format(i))\n",
    "    if data.shape[1] == 18:\n",
    "        year = '20{}'.format(i)\n",
    "        year = int(year)\n",
    "        data['year'] = year\n",
    "        data.columns = nameslist\n",
    "        \n",
    "    med_discharge = pd.concat([med_discharge, data])\n",
    "\n",
    "    \n",
    "### Reset the index and fix the county/state labelling\n",
    "\n",
    "med_discharge.reset_index(inplace = True)\n",
    "med_discharge[['state', 'county', 'dropme']] = med_discharge['hsa.label'].str.split('-', expand = True)\n",
    "med_discharge.drop('dropme', axis =1, inplace = True)\n",
    "med_discharge['county'] = med_discharge['county'].str.title()\n",
    "\n",
    "### This fixes parentheses to allow for negative values and then converts to a float/int\n",
    "\n",
    "med_discharge['med.enrollee'] = med_discharge['med.enrollee'].str.replace(',','')\n",
    "\n",
    "for name in med_discharge.columns[2:19]:\n",
    "    med_discharge[name] = med_discharge[name].str.replace('\\(' , '-', regex = True)\n",
    "    med_discharge[name] = med_discharge[name].str.replace('\\)', '', regex = True)\n",
    "    med_discharge[name] = pd.to_numeric(med_discharge[name], errors = 'coerce')"
   ]
  },
  {
   "cell_type": "code",
   "execution_count": null,
   "id": "cd61bbbf-3485-4908-998d-dfef8952f919",
   "metadata": {},
   "outputs": [],
   "source": []
  },
  {
   "cell_type": "code",
   "execution_count": 14,
   "id": "c1a98cc1-4a91-4afd-9873-8ac2006790e6",
   "metadata": {
    "tags": []
   },
   "outputs": [],
   "source": [
    "med_discharge1 = pd.merge(med_discharge, hsa_crosswalk, on = ['hsa.num'], how = 'left', indicator = True)"
   ]
  },
  {
   "cell_type": "code",
   "execution_count": 15,
   "id": "fdfa3239-3676-49ed-8948-0374546f19e5",
   "metadata": {
    "tags": []
   },
   "outputs": [],
   "source": [
    "med_discharge1 = med_discharge1.groupby(['state_y', 'county_y', 'year']).mean(numeric_only = True).reset_index()"
   ]
  },
  {
   "cell_type": "code",
   "execution_count": 16,
   "id": "1fffa942-4c86-428e-9777-9c65ace607f1",
   "metadata": {
    "tags": []
   },
   "outputs": [],
   "source": [
    "med_discharge1['year'] = pd.to_datetime(med_discharge1['year'].astype(str))\n",
    "med_discharge1 = med_discharge1.rename(columns = renamer)\n",
    "med_discharge1.set_index(['state', 'county', 'year'], inplace = True)"
   ]
  },
  {
   "cell_type": "code",
   "execution_count": 17,
   "id": "e198f7ea-3fc5-4d97-b5fa-e66a35002427",
   "metadata": {
    "tags": []
   },
   "outputs": [
    {
     "data": {
      "text/html": [
       "<div>\n",
       "<style scoped>\n",
       "    .dataframe tbody tr th:only-of-type {\n",
       "        vertical-align: middle;\n",
       "    }\n",
       "\n",
       "    .dataframe tbody tr th {\n",
       "        vertical-align: top;\n",
       "    }\n",
       "\n",
       "    .dataframe thead th {\n",
       "        text-align: right;\n",
       "    }\n",
       "</style>\n",
       "<table border=\"1\" class=\"dataframe\">\n",
       "  <thead>\n",
       "    <tr style=\"text-align: right;\">\n",
       "      <th></th>\n",
       "      <th></th>\n",
       "      <th></th>\n",
       "      <th>index</th>\n",
       "      <th>hsa.num</th>\n",
       "      <th>hsa.label</th>\n",
       "      <th>med.enrollee</th>\n",
       "      <th>med.dis.per.1000</th>\n",
       "      <th>med.dis.noacs.per.1000</th>\n",
       "      <th>dis.amb.care.per.1000</th>\n",
       "      <th>dis.conv.per.1000</th>\n",
       "      <th>dis.copd.per.1000</th>\n",
       "      <th>dis.bact.pneu.per.1000</th>\n",
       "      <th>dis.asth.per.1000</th>\n",
       "      <th>dis.chf.per.1000</th>\n",
       "      <th>dis.hpt.per.1000</th>\n",
       "      <th>dis.angi.per.1000</th>\n",
       "      <th>dis.cell.per.1000</th>\n",
       "      <th>dis.diab.per.1000</th>\n",
       "      <th>dis.gast.per.1000</th>\n",
       "      <th>dis.kid.per.1000</th>\n",
       "      <th>dis.dehyd.per.1000</th>\n",
       "    </tr>\n",
       "    <tr>\n",
       "      <th>state</th>\n",
       "      <th>county</th>\n",
       "      <th>year</th>\n",
       "      <th></th>\n",
       "      <th></th>\n",
       "      <th></th>\n",
       "      <th></th>\n",
       "      <th></th>\n",
       "      <th></th>\n",
       "      <th></th>\n",
       "      <th></th>\n",
       "      <th></th>\n",
       "      <th></th>\n",
       "      <th></th>\n",
       "      <th></th>\n",
       "      <th></th>\n",
       "      <th></th>\n",
       "      <th></th>\n",
       "      <th></th>\n",
       "      <th></th>\n",
       "      <th></th>\n",
       "      <th></th>\n",
       "    </tr>\n",
       "  </thead>\n",
       "  <tbody>\n",
       "    <tr>\n",
       "      <th rowspan=\"5\" valign=\"top\">Alabama</th>\n",
       "      <th rowspan=\"5\" valign=\"top\">Autauga</th>\n",
       "      <th>2005-01-01</th>\n",
       "      <td>53.0</td>\n",
       "      <td>1070.0</td>\n",
       "      <td>NaN</td>\n",
       "      <td>4038.0</td>\n",
       "      <td>239.1</td>\n",
       "      <td>141.6</td>\n",
       "      <td>102.8</td>\n",
       "      <td>NaN</td>\n",
       "      <td>14.89</td>\n",
       "      <td>26.77</td>\n",
       "      <td>-3.06</td>\n",
       "      <td>34.50</td>\n",
       "      <td>NaN</td>\n",
       "      <td>NaN</td>\n",
       "      <td>-3.46</td>\n",
       "      <td>NaN</td>\n",
       "      <td>NaN</td>\n",
       "      <td>8.84</td>\n",
       "      <td>-5.61</td>\n",
       "    </tr>\n",
       "    <tr>\n",
       "      <th>2006-01-01</th>\n",
       "      <td>53.0</td>\n",
       "      <td>1070.0</td>\n",
       "      <td>NaN</td>\n",
       "      <td>3933.0</td>\n",
       "      <td>246.6</td>\n",
       "      <td>164.7</td>\n",
       "      <td>84.9</td>\n",
       "      <td>NaN</td>\n",
       "      <td>14.23</td>\n",
       "      <td>24.10</td>\n",
       "      <td>NaN</td>\n",
       "      <td>19.31</td>\n",
       "      <td>NaN</td>\n",
       "      <td>NaN</td>\n",
       "      <td>-3.56</td>\n",
       "      <td>NaN</td>\n",
       "      <td>NaN</td>\n",
       "      <td>7.10</td>\n",
       "      <td>-7.01</td>\n",
       "    </tr>\n",
       "    <tr>\n",
       "      <th>2007-01-01</th>\n",
       "      <td>53.0</td>\n",
       "      <td>1070.0</td>\n",
       "      <td>NaN</td>\n",
       "      <td>3896.0</td>\n",
       "      <td>242.9</td>\n",
       "      <td>172.5</td>\n",
       "      <td>72.8</td>\n",
       "      <td>NaN</td>\n",
       "      <td>10.07</td>\n",
       "      <td>17.43</td>\n",
       "      <td>NaN</td>\n",
       "      <td>16.53</td>\n",
       "      <td>NaN</td>\n",
       "      <td>NaN</td>\n",
       "      <td>-4.41</td>\n",
       "      <td>NaN</td>\n",
       "      <td>NaN</td>\n",
       "      <td>10.39</td>\n",
       "      <td>-6.42</td>\n",
       "    </tr>\n",
       "    <tr>\n",
       "      <th>2008-01-01</th>\n",
       "      <td>53.0</td>\n",
       "      <td>1070.0</td>\n",
       "      <td>NaN</td>\n",
       "      <td>3570.0</td>\n",
       "      <td>257.3</td>\n",
       "      <td>176.6</td>\n",
       "      <td>80.7</td>\n",
       "      <td>NaN</td>\n",
       "      <td>12.93</td>\n",
       "      <td>21.92</td>\n",
       "      <td>NaN</td>\n",
       "      <td>20.91</td>\n",
       "      <td>NaN</td>\n",
       "      <td>NaN</td>\n",
       "      <td>NaN</td>\n",
       "      <td>NaN</td>\n",
       "      <td>NaN</td>\n",
       "      <td>8.90</td>\n",
       "      <td>-4.99</td>\n",
       "    </tr>\n",
       "    <tr>\n",
       "      <th>2009-01-01</th>\n",
       "      <td>53.0</td>\n",
       "      <td>1070.0</td>\n",
       "      <td>NaN</td>\n",
       "      <td>3534.0</td>\n",
       "      <td>250.5</td>\n",
       "      <td>162.7</td>\n",
       "      <td>87.8</td>\n",
       "      <td>NaN</td>\n",
       "      <td>13.23</td>\n",
       "      <td>22.55</td>\n",
       "      <td>NaN</td>\n",
       "      <td>22.63</td>\n",
       "      <td>NaN</td>\n",
       "      <td>NaN</td>\n",
       "      <td>NaN</td>\n",
       "      <td>NaN</td>\n",
       "      <td>NaN</td>\n",
       "      <td>12.46</td>\n",
       "      <td>-3.76</td>\n",
       "    </tr>\n",
       "    <tr>\n",
       "      <th>...</th>\n",
       "      <th>...</th>\n",
       "      <th>...</th>\n",
       "      <td>...</td>\n",
       "      <td>...</td>\n",
       "      <td>...</td>\n",
       "      <td>...</td>\n",
       "      <td>...</td>\n",
       "      <td>...</td>\n",
       "      <td>...</td>\n",
       "      <td>...</td>\n",
       "      <td>...</td>\n",
       "      <td>...</td>\n",
       "      <td>...</td>\n",
       "      <td>...</td>\n",
       "      <td>...</td>\n",
       "      <td>...</td>\n",
       "      <td>...</td>\n",
       "      <td>...</td>\n",
       "      <td>...</td>\n",
       "      <td>...</td>\n",
       "      <td>...</td>\n",
       "    </tr>\n",
       "    <tr>\n",
       "      <th rowspan=\"5\" valign=\"top\">Wyoming</th>\n",
       "      <th rowspan=\"5\" valign=\"top\">Weston</th>\n",
       "      <th>2011-01-01</th>\n",
       "      <td>3425.0</td>\n",
       "      <td>53016.0</td>\n",
       "      <td>NaN</td>\n",
       "      <td>1063.0</td>\n",
       "      <td>181.6</td>\n",
       "      <td>120.4</td>\n",
       "      <td>62.0</td>\n",
       "      <td>NaN</td>\n",
       "      <td>-15.59</td>\n",
       "      <td>-17.13</td>\n",
       "      <td>NaN</td>\n",
       "      <td>NaN</td>\n",
       "      <td>NaN</td>\n",
       "      <td>NaN</td>\n",
       "      <td>NaN</td>\n",
       "      <td>NaN</td>\n",
       "      <td>NaN</td>\n",
       "      <td>NaN</td>\n",
       "      <td>NaN</td>\n",
       "    </tr>\n",
       "    <tr>\n",
       "      <th>2012-01-01</th>\n",
       "      <td>3425.0</td>\n",
       "      <td>53016.0</td>\n",
       "      <td>NaN</td>\n",
       "      <td>1093.0</td>\n",
       "      <td>150.2</td>\n",
       "      <td>108.1</td>\n",
       "      <td>42.2</td>\n",
       "      <td>NaN</td>\n",
       "      <td>-10.73</td>\n",
       "      <td>-13.19</td>\n",
       "      <td>NaN</td>\n",
       "      <td>NaN</td>\n",
       "      <td>NaN</td>\n",
       "      <td>NaN</td>\n",
       "      <td>NaN</td>\n",
       "      <td>NaN</td>\n",
       "      <td>NaN</td>\n",
       "      <td>NaN</td>\n",
       "      <td>NaN</td>\n",
       "    </tr>\n",
       "    <tr>\n",
       "      <th>2013-01-01</th>\n",
       "      <td>3425.0</td>\n",
       "      <td>53016.0</td>\n",
       "      <td>NaN</td>\n",
       "      <td>1143.0</td>\n",
       "      <td>117.3</td>\n",
       "      <td>78.3</td>\n",
       "      <td>40.7</td>\n",
       "      <td>NaN</td>\n",
       "      <td>NaN</td>\n",
       "      <td>-14.50</td>\n",
       "      <td>NaN</td>\n",
       "      <td>NaN</td>\n",
       "      <td>NaN</td>\n",
       "      <td>NaN</td>\n",
       "      <td>NaN</td>\n",
       "      <td>NaN</td>\n",
       "      <td>NaN</td>\n",
       "      <td>NaN</td>\n",
       "      <td>NaN</td>\n",
       "    </tr>\n",
       "    <tr>\n",
       "      <th>2014-01-01</th>\n",
       "      <td>3425.0</td>\n",
       "      <td>53016.0</td>\n",
       "      <td>NaN</td>\n",
       "      <td>1192.0</td>\n",
       "      <td>126.0</td>\n",
       "      <td>95.7</td>\n",
       "      <td>31.1</td>\n",
       "      <td>NaN</td>\n",
       "      <td>NaN</td>\n",
       "      <td>-11.34</td>\n",
       "      <td>NaN</td>\n",
       "      <td>NaN</td>\n",
       "      <td>NaN</td>\n",
       "      <td>NaN</td>\n",
       "      <td>NaN</td>\n",
       "      <td>NaN</td>\n",
       "      <td>NaN</td>\n",
       "      <td>NaN</td>\n",
       "      <td>NaN</td>\n",
       "    </tr>\n",
       "    <tr>\n",
       "      <th>2015-01-01</th>\n",
       "      <td>3425.0</td>\n",
       "      <td>53016.0</td>\n",
       "      <td>NaN</td>\n",
       "      <td>903.0</td>\n",
       "      <td>132.1</td>\n",
       "      <td>102.3</td>\n",
       "      <td>29.8</td>\n",
       "      <td>NaN</td>\n",
       "      <td>NaN</td>\n",
       "      <td>NaN</td>\n",
       "      <td>NaN</td>\n",
       "      <td>NaN</td>\n",
       "      <td>NaN</td>\n",
       "      <td>NaN</td>\n",
       "      <td>NaN</td>\n",
       "      <td>NaN</td>\n",
       "      <td>NaN</td>\n",
       "      <td>NaN</td>\n",
       "      <td>NaN</td>\n",
       "    </tr>\n",
       "  </tbody>\n",
       "</table>\n",
       "<p>28776 rows × 19 columns</p>\n",
       "</div>"
      ],
      "text/plain": [
       "                             index  hsa.num  hsa.label  med.enrollee  \\\n",
       "state   county  year                                                   \n",
       "Alabama Autauga 2005-01-01    53.0   1070.0        NaN        4038.0   \n",
       "                2006-01-01    53.0   1070.0        NaN        3933.0   \n",
       "                2007-01-01    53.0   1070.0        NaN        3896.0   \n",
       "                2008-01-01    53.0   1070.0        NaN        3570.0   \n",
       "                2009-01-01    53.0   1070.0        NaN        3534.0   \n",
       "...                            ...      ...        ...           ...   \n",
       "Wyoming Weston  2011-01-01  3425.0  53016.0        NaN        1063.0   \n",
       "                2012-01-01  3425.0  53016.0        NaN        1093.0   \n",
       "                2013-01-01  3425.0  53016.0        NaN        1143.0   \n",
       "                2014-01-01  3425.0  53016.0        NaN        1192.0   \n",
       "                2015-01-01  3425.0  53016.0        NaN         903.0   \n",
       "\n",
       "                            med.dis.per.1000  med.dis.noacs.per.1000  \\\n",
       "state   county  year                                                   \n",
       "Alabama Autauga 2005-01-01             239.1                   141.6   \n",
       "                2006-01-01             246.6                   164.7   \n",
       "                2007-01-01             242.9                   172.5   \n",
       "                2008-01-01             257.3                   176.6   \n",
       "                2009-01-01             250.5                   162.7   \n",
       "...                                      ...                     ...   \n",
       "Wyoming Weston  2011-01-01             181.6                   120.4   \n",
       "                2012-01-01             150.2                   108.1   \n",
       "                2013-01-01             117.3                    78.3   \n",
       "                2014-01-01             126.0                    95.7   \n",
       "                2015-01-01             132.1                   102.3   \n",
       "\n",
       "                            dis.amb.care.per.1000  dis.conv.per.1000  \\\n",
       "state   county  year                                                   \n",
       "Alabama Autauga 2005-01-01                  102.8                NaN   \n",
       "                2006-01-01                   84.9                NaN   \n",
       "                2007-01-01                   72.8                NaN   \n",
       "                2008-01-01                   80.7                NaN   \n",
       "                2009-01-01                   87.8                NaN   \n",
       "...                                           ...                ...   \n",
       "Wyoming Weston  2011-01-01                   62.0                NaN   \n",
       "                2012-01-01                   42.2                NaN   \n",
       "                2013-01-01                   40.7                NaN   \n",
       "                2014-01-01                   31.1                NaN   \n",
       "                2015-01-01                   29.8                NaN   \n",
       "\n",
       "                            dis.copd.per.1000  dis.bact.pneu.per.1000  \\\n",
       "state   county  year                                                    \n",
       "Alabama Autauga 2005-01-01              14.89                   26.77   \n",
       "                2006-01-01              14.23                   24.10   \n",
       "                2007-01-01              10.07                   17.43   \n",
       "                2008-01-01              12.93                   21.92   \n",
       "                2009-01-01              13.23                   22.55   \n",
       "...                                       ...                     ...   \n",
       "Wyoming Weston  2011-01-01             -15.59                  -17.13   \n",
       "                2012-01-01             -10.73                  -13.19   \n",
       "                2013-01-01                NaN                  -14.50   \n",
       "                2014-01-01                NaN                  -11.34   \n",
       "                2015-01-01                NaN                     NaN   \n",
       "\n",
       "                            dis.asth.per.1000  dis.chf.per.1000  \\\n",
       "state   county  year                                              \n",
       "Alabama Autauga 2005-01-01              -3.06             34.50   \n",
       "                2006-01-01                NaN             19.31   \n",
       "                2007-01-01                NaN             16.53   \n",
       "                2008-01-01                NaN             20.91   \n",
       "                2009-01-01                NaN             22.63   \n",
       "...                                       ...               ...   \n",
       "Wyoming Weston  2011-01-01                NaN               NaN   \n",
       "                2012-01-01                NaN               NaN   \n",
       "                2013-01-01                NaN               NaN   \n",
       "                2014-01-01                NaN               NaN   \n",
       "                2015-01-01                NaN               NaN   \n",
       "\n",
       "                            dis.hpt.per.1000  dis.angi.per.1000  \\\n",
       "state   county  year                                              \n",
       "Alabama Autauga 2005-01-01               NaN                NaN   \n",
       "                2006-01-01               NaN                NaN   \n",
       "                2007-01-01               NaN                NaN   \n",
       "                2008-01-01               NaN                NaN   \n",
       "                2009-01-01               NaN                NaN   \n",
       "...                                      ...                ...   \n",
       "Wyoming Weston  2011-01-01               NaN                NaN   \n",
       "                2012-01-01               NaN                NaN   \n",
       "                2013-01-01               NaN                NaN   \n",
       "                2014-01-01               NaN                NaN   \n",
       "                2015-01-01               NaN                NaN   \n",
       "\n",
       "                            dis.cell.per.1000  dis.diab.per.1000  \\\n",
       "state   county  year                                               \n",
       "Alabama Autauga 2005-01-01              -3.46                NaN   \n",
       "                2006-01-01              -3.56                NaN   \n",
       "                2007-01-01              -4.41                NaN   \n",
       "                2008-01-01                NaN                NaN   \n",
       "                2009-01-01                NaN                NaN   \n",
       "...                                       ...                ...   \n",
       "Wyoming Weston  2011-01-01                NaN                NaN   \n",
       "                2012-01-01                NaN                NaN   \n",
       "                2013-01-01                NaN                NaN   \n",
       "                2014-01-01                NaN                NaN   \n",
       "                2015-01-01                NaN                NaN   \n",
       "\n",
       "                            dis.gast.per.1000  dis.kid.per.1000  \\\n",
       "state   county  year                                              \n",
       "Alabama Autauga 2005-01-01                NaN              8.84   \n",
       "                2006-01-01                NaN              7.10   \n",
       "                2007-01-01                NaN             10.39   \n",
       "                2008-01-01                NaN              8.90   \n",
       "                2009-01-01                NaN             12.46   \n",
       "...                                       ...               ...   \n",
       "Wyoming Weston  2011-01-01                NaN               NaN   \n",
       "                2012-01-01                NaN               NaN   \n",
       "                2013-01-01                NaN               NaN   \n",
       "                2014-01-01                NaN               NaN   \n",
       "                2015-01-01                NaN               NaN   \n",
       "\n",
       "                            dis.dehyd.per.1000  \n",
       "state   county  year                            \n",
       "Alabama Autauga 2005-01-01               -5.61  \n",
       "                2006-01-01               -7.01  \n",
       "                2007-01-01               -6.42  \n",
       "                2008-01-01               -4.99  \n",
       "                2009-01-01               -3.76  \n",
       "...                                        ...  \n",
       "Wyoming Weston  2011-01-01                 NaN  \n",
       "                2012-01-01                 NaN  \n",
       "                2013-01-01                 NaN  \n",
       "                2014-01-01                 NaN  \n",
       "                2015-01-01                 NaN  \n",
       "\n",
       "[28776 rows x 19 columns]"
      ]
     },
     "execution_count": 17,
     "metadata": {},
     "output_type": "execute_result"
    }
   ],
   "source": [
    "med_discharge1"
   ]
  },
  {
   "cell_type": "markdown",
   "id": "04d9fedc-7c29-4be5-918c-09fef7d6d659",
   "metadata": {},
   "source": [
    "# Surgical Discharge Rates (2005 - 2015) - HSA"
   ]
  },
  {
   "cell_type": "code",
   "execution_count": 18,
   "id": "425b8cc8-e581-49dd-91c7-507228b7cc63",
   "metadata": {
    "tags": []
   },
   "outputs": [],
   "source": [
    "### Grab  and create a dataframe from all the data\n",
    "\n",
    "yearlist = ['05', '06', '07', '08', '09', '10', '11','12','13','14','15']\n",
    "\n",
    "\n",
    "nameslist = ['hsa.num', 'hsa.label', 'med.enrollee', 'surg.dis.per.1000', 'aaa.per.1000', 'back.surg.per.1000', \n",
    "             'coron.angio.per.1000', 'coron.art.per.1000', 'perc.coron.per.1000', 'carot.endar.per.1000', \n",
    "             'cholec.per.1000', 'hip.frac.per.1000', 'hip.rep.per.1000', 'knee.rep.per.1000', 'mastec.per.1000', \n",
    "             'colon.resec.per.1000', 'low.ext.revas.per.1000', 'pros.benign.per.1000', 'aor/mit.rep.per.1000', 'rad.pros.per.1000', 'year']\n",
    "             \n",
    "\n",
    "surg_discharge = pd.DataFrame()\n",
    "\n",
    "for i in yearlist:\n",
    "    data = pd.read_csv(wd + 'SurgicalDischarges\\\\' + '20{}_surg_discharges_hsa.csv'.format(i), index_col = False)\n",
    "    if data.shape[1] == 20:\n",
    "        year = '20{}'.format(i)\n",
    "        year = int(year)\n",
    "        data['year'] = year\n",
    "        data.columns = nameslist\n",
    " \n",
    "        \n",
    "    surg_discharge = pd.concat([surg_discharge, data])\n",
    "\n",
    "### Reset the index and fix the county/state labelling\n",
    "\n",
    "\n",
    "surg_discharge.reset_index(inplace = True)\n",
    "surg_discharge[['state', 'county', 'dropme']] = surg_discharge['hsa.label'].str.split('-', expand = True)\n",
    "surg_discharge.drop(columns = ['index', 'dropme'], axis =1, inplace = True)\n",
    "surg_discharge['county'] = surg_discharge['county'].str.title()\n",
    "\n",
    "### This fixes parentheses to allow for negative values and then converts to a float/int\n",
    "\n",
    "surg_discharge['med.enrollee'] = surg_discharge['med.enrollee'].str.replace(',','')\n",
    "\n",
    "for name in surg_discharge.columns[2:20]:\n",
    "    surg_discharge[name] = surg_discharge[name].str.replace('\\(' , '-', regex = True)\n",
    "    surg_discharge[name] = surg_discharge[name].str.replace('\\)', '', regex = True)\n",
    "    surg_discharge[name] = pd.to_numeric(surg_discharge[name], errors = 'coerce')"
   ]
  },
  {
   "cell_type": "code",
   "execution_count": null,
   "id": "3529cf3f-8cd3-4d06-9ac6-9cf1404463a4",
   "metadata": {},
   "outputs": [],
   "source": []
  },
  {
   "cell_type": "code",
   "execution_count": 19,
   "id": "85b8772f-8065-4997-a852-1613462a807c",
   "metadata": {
    "tags": []
   },
   "outputs": [],
   "source": [
    "surg_discharge1 = pd.merge(surg_discharge, hsa_crosswalk, on = ['hsa.num'], how = 'left', indicator = True)"
   ]
  },
  {
   "cell_type": "code",
   "execution_count": 20,
   "id": "a39bbc93-ba51-4810-a703-410fb8451fd1",
   "metadata": {
    "tags": []
   },
   "outputs": [],
   "source": [
    "surg_discharge1 = surg_discharge1.groupby(['state_y', 'county_y', 'year']).mean(numeric_only = True).reset_index()"
   ]
  },
  {
   "cell_type": "code",
   "execution_count": 21,
   "id": "5c48e8da-5bda-4a63-af76-ea1f11723111",
   "metadata": {
    "tags": []
   },
   "outputs": [],
   "source": [
    "surg_discharge1['year'] = pd.to_datetime(surg_discharge1['year'].astype(str))\n",
    "surg_discharge1 = surg_discharge1.rename(columns = renamer)\n",
    "surg_discharge1.set_index(['state', 'county', 'year'], inplace = True)"
   ]
  },
  {
   "cell_type": "code",
   "execution_count": null,
   "id": "0b0b0163-26f8-4815-b56f-d0adc86df723",
   "metadata": {},
   "outputs": [],
   "source": []
  },
  {
   "cell_type": "code",
   "execution_count": null,
   "id": "0543aa6b-9a86-4faf-88de-8d4a369ae749",
   "metadata": {},
   "outputs": [],
   "source": []
  },
  {
   "cell_type": "markdown",
   "id": "ad397aea-c984-485a-8ff8-0f8038c2be63",
   "metadata": {},
   "source": [
    "# Chronically Ill last 2 Years (2008- 2015) - HOSPITAL\n",
    "\n",
    "### This will require a hospital to HSA crosswalk"
   ]
  },
  {
   "cell_type": "code",
   "execution_count": 22,
   "id": "d62e9edb-1756-4fa4-a458-1057661d4530",
   "metadata": {
    "tags": []
   },
   "outputs": [],
   "source": [
    "nameslist = ['hrr', 'hrr.name', 'provider.id', 'hospital.name', 'city', 'state', 'system', 'num.dead.chronic.2yr',\n",
    "             'pct.enrol.inpat.hosp.2yr', 'hci.2yr', 'total.med.spend.2yr', 'med.spend.inpat.2yr', 'med.spend.out.2yr', 'med.spend.snf.2yr', 'med.spend.home.2yr',\n",
    "             'med.spend.hosp.2yr', 'med.spend.amb.2yr', 'med.spend.dme.2yr', 'med.spend.other.2yr', 'total.medb.spend.2yr', 'medb.spend.eval.2yr', 'medb.spend.proc.2yr',\n",
    "             'medb.spend.imag.2yr', 'medb.spend.test.2yr', 'medb.spend.other.2yr', 'hosp.reimb.2yr', 'hosp.days.2yr', 'reimb.pt.day.2yr', 'ratio.hosp.reimb.2yr', 'ratio.hosp.days.2yr',\n",
    "             'ratio.reimb.pt.day.2yr', 'phys.pay.per.2yr', 'phys.visit.per.2yr', 'pay.per.phys.visit.2yr', 'ratio.phys.pay.2yr', 'ratio.phys.visit.2yr', 'ratio.pay.per.phys.visit.2yr', 'hosp.beds.1000', \n",
    "             'int.care.beds.1000', 'int.care.high.1000', 'int.care.med.1000', 'med/surg.beds.1000', 'snf.beds.1000', 'fte.phys.1000', 'fte.medspec.1000', 'fte.primcare.1000', 'ratio.fte.ms/pc.1000', \n",
    "             'req.rns.1000', 'hosp.days.per.dead', 'int.days.per.dead', 'int.care.high.dead', 'int.care.med.dead', 'med/surg.day.dead', 'snf.day.dead', 'phys.visit.dead', 'phys.visit.medspec.dead', \n",
    "             'phys.visit.primcare.dead', 'ratio.phys.visist.ms/pc.dead', 'home.health.visit.dead', 'pct.death.hosp', 'pct.death.with.icu', 'pct.hospice', 'hospice.day.per.dead', 'pct.pt.10+phys',\n",
    "             'num.diff.phys.dead', 'avg.copay.dead', 'avg.copay.phys.dead', 'avg.copay.dme.dead', 'year']"
   ]
  },
  {
   "cell_type": "code",
   "execution_count": 23,
   "id": "e0ac4806-70c9-4f48-a3cb-de3f2d5db217",
   "metadata": {
    "tags": []
   },
   "outputs": [],
   "source": [
    "### Grab  and create a dataframe from all the data\n",
    "\n",
    "yearlist = ['08', '09', '10', '11','12','13','14','15']\n",
    "             \n",
    "chronic_care = pd.DataFrame()\n",
    "\n",
    "for i in yearlist:\n",
    "    data = pd.read_csv(wd + 'ChronicCare\\\\' + 'DAP_hospital_data_20{0}.csv'.format(i), skiprows = 1, skip_blank_lines = True)\n",
    "    data = data.drop(columns = data.columns[data.columns.str.contains('Unnamed')])\n",
    "    if data.shape[1] == 68:\n",
    "        year = '20{}'.format(i)\n",
    "        year = int(year)\n",
    "        data['year'] = year\n",
    "        data.columns = nameslist\n",
    " \n",
    "        \n",
    "    chronic_care = pd.concat([chronic_care, data])\n",
    "\n",
    "### Reset the index and fix the city labelling\n",
    "\n",
    "chronic_care.reset_index(inplace = True)\n",
    "chronic_care['city'] = chronic_care['city'].str.title()\n",
    "\n",
    "### This fixes parentheses to allow for negative values and then converts to a float/int\n",
    "\n",
    "for name in chronic_care.columns[7:69]:\n",
    "    if type(chronic_care[name][1]) == str:\n",
    "        chronic_care[name] = chronic_care[name].str.replace('\\(' , '-', regex = True)\n",
    "        chronic_care[name] = chronic_care[name].str.replace('\\)', '', regex = True)\n",
    "        chronic_care[name] = pd.to_numeric(chronic_care[name], errors = 'coerce')"
   ]
  },
  {
   "cell_type": "code",
   "execution_count": 24,
   "id": "74400ffb-96ca-4670-b3f3-a655d884772a",
   "metadata": {
    "tags": []
   },
   "outputs": [],
   "source": [
    "chronic_care1 = pd.merge(chronic_care, crosswalk, on = ['provider.id', 'year'], how = 'left')"
   ]
  },
  {
   "cell_type": "code",
   "execution_count": 25,
   "id": "63bed71b-1455-454f-85f8-2dec9806ae77",
   "metadata": {
    "tags": []
   },
   "outputs": [],
   "source": [
    "chronic_care1 = chronic_care1.loc[~chronic_care1['hsa.num'].isna()]"
   ]
  },
  {
   "cell_type": "code",
   "execution_count": 26,
   "id": "454235f2-a198-4822-8bea-a5dd76e82715",
   "metadata": {
    "tags": []
   },
   "outputs": [],
   "source": [
    "chronic_care1.fillna(0, inplace = True)"
   ]
  },
  {
   "cell_type": "code",
   "execution_count": null,
   "id": "225edb5d-37a2-4f94-9be6-fa4d767cf81d",
   "metadata": {},
   "outputs": [],
   "source": []
  },
  {
   "cell_type": "code",
   "execution_count": 27,
   "id": "e7a22ebd-d277-4e1e-a2df-59c443512ee4",
   "metadata": {
    "tags": []
   },
   "outputs": [],
   "source": [
    "### This process takes the values in this data and groups it by hsa and year and averages out duplicates\n",
    "#chronic_care3 = chronic_care1.drop(['hospital.name', 'city', 'state_x', 'hsa.name', 'fcntyname'], axis = 1)\n",
    "\n",
    "chronic_care3 = chronic_care1.groupby(['state_y','county', 'year'], as_index = False).mean(numeric_only = True)"
   ]
  },
  {
   "cell_type": "code",
   "execution_count": 28,
   "id": "1dc9ade3-fe77-4c0c-b1be-618eb6b43521",
   "metadata": {
    "tags": []
   },
   "outputs": [],
   "source": [
    "chronic_care3['year'] = pd.to_datetime(chronic_care3['year'].astype(str))\n",
    "chronic_care3 = chronic_care3.rename(columns = {'state_y':'state'})\n",
    "chronic_care3.set_index(['state', 'county', 'year'], inplace = True)"
   ]
  },
  {
   "cell_type": "code",
   "execution_count": null,
   "id": "3877d6cc-dbe3-48ef-8b6d-c46dc1025184",
   "metadata": {},
   "outputs": [],
   "source": []
  },
  {
   "cell_type": "code",
   "execution_count": 29,
   "id": "67baee3f-9382-4a7c-8a33-e945c65ea5b5",
   "metadata": {
    "tags": []
   },
   "outputs": [],
   "source": [
    "### Like above, this is averaging up to the hsa level given that we were using hospital level data\n",
    "chronic_care2 = chronic_care1.groupby(['hsa.num', 'year'], as_index = False).mean(numeric_only = True)"
   ]
  },
  {
   "cell_type": "markdown",
   "id": "9ef56410-38ed-490f-b965-dcab95734bce",
   "metadata": {},
   "source": [
    "Chronic care does not have all the HSA's, instead it only has 2004 out of the expected 3437"
   ]
  },
  {
   "cell_type": "markdown",
   "id": "9e0654cd-b4ed-4325-abcb-af6f48ad779b",
   "metadata": {},
   "source": [
    "# End of Life Care Last 6-Months (2006 - 2016) - HSA"
   ]
  },
  {
   "cell_type": "code",
   "execution_count": 30,
   "id": "626aaefd-9f73-4ee3-8d05-20dc8765472e",
   "metadata": {
    "tags": []
   },
   "outputs": [],
   "source": [
    "### Grab  and create a dataframe from all the data\n",
    "\n",
    "yearlist = ['06', '07', '08', '09', '10', '11','12','13','14','15', '16']\n",
    "\n",
    "\n",
    "nameslist = ['hsa.num', 'hsa.label', 'medicare.deaths', 'pct.med.hosp.6mo', 'days.inpat.6mo', 'spend.inpat.6mo',\n",
    "            'pct.deaths.hosp.6mo', 'inpat.days.during.death.6mo', 'inpat.spend.during.death.6mo', 'pct.icu/ccu.during.death.6mo',\n",
    "            'icu/ccu.days.death.6mo', 'icu/ccu.during.death.6mo', 'pct.icu/ccu.6mo', 'ice/ccu.days.6mo', 'pct.7+day.icu.6mo', 'icu/ccu.spend.6mo', 'year']\n",
    "\n",
    "endoflife = pd.DataFrame()\n",
    "\n",
    "for i in yearlist:\n",
    "    data = pd.read_csv(wd + 'EndoflifeCare\\\\' + '20{}_eol_medpar_hsa.csv'.format(i))\n",
    "    if data.shape[1] == 16:\n",
    "        year = '20{}'.format(i)\n",
    "        year = int(year)\n",
    "        data['year'] = year\n",
    "        data.columns = nameslist\n",
    "    else:\n",
    "        data.drop('Year', axis = 1, inplace = True)\n",
    "        year = '20{}'.format(i)\n",
    "        year = int(year)\n",
    "        data['year'] = year\n",
    "        data.columns = nameslist\n",
    "        \n",
    "    endoflife = pd.concat([endoflife, data])\n",
    "\n",
    "### Reset the index and fix the county/state labelling\n",
    "\n",
    "endoflife.reset_index(inplace = True)\n",
    "endoflife[['state', 'county', 'dropme']] = endoflife['hsa.label'].str.split('-', expand = True)\n",
    "endoflife.drop('dropme', axis =1, inplace = True)\n",
    "endoflife.drop('index', axis =1, inplace = True)\n",
    "endoflife['county'] = endoflife['county'].str.title()\n",
    "\n",
    "### This fixes parentheses to allow for negative values and then converts to a float/int\n",
    "\n",
    "endoflife['medicare.deaths'] = endoflife['medicare.deaths'].str.replace(',','')\n",
    "\n",
    "for name in endoflife.columns[2:17]:\n",
    "    if type(endoflife[name][1]) == str:\n",
    "        endoflife[name] = endoflife[name].str.replace('\\(' , '-', regex = True)\n",
    "        endoflife[name] = endoflife[name].str.replace('\\)', '', regex = True)\n",
    "        endoflife[name] = pd.to_numeric(endoflife[name], errors = 'coerce')"
   ]
  },
  {
   "cell_type": "code",
   "execution_count": null,
   "id": "b6dd203b-e69e-422e-a3b4-90627089b00d",
   "metadata": {},
   "outputs": [],
   "source": []
  },
  {
   "cell_type": "code",
   "execution_count": 31,
   "id": "694bb944-116f-4fa9-baf8-7a54312aa858",
   "metadata": {
    "tags": []
   },
   "outputs": [],
   "source": [
    "endoflife1 = pd.merge(endoflife, hsa_crosswalk, on = ['hsa.num'], how = 'left', indicator = True)"
   ]
  },
  {
   "cell_type": "code",
   "execution_count": 32,
   "id": "c1efe0a1-ab09-4d63-bd2c-284da4cc17e0",
   "metadata": {
    "tags": []
   },
   "outputs": [],
   "source": [
    "endoflife1 = endoflife1.groupby(['state_y', 'county_y', 'year']).mean(numeric_only = True).reset_index()"
   ]
  },
  {
   "cell_type": "code",
   "execution_count": null,
   "id": "9be3504e-6c50-4a9b-a45d-5deae0eaa394",
   "metadata": {},
   "outputs": [],
   "source": []
  },
  {
   "cell_type": "code",
   "execution_count": 33,
   "id": "65225107-aae9-47e7-be3d-34cf1b4c8de6",
   "metadata": {
    "tags": []
   },
   "outputs": [],
   "source": [
    "endoflife1['year'] = pd.to_datetime(endoflife1['year'].astype(str))\n",
    "endoflife1 = endoflife1.rename(columns = renamer)\n",
    "endoflife1.set_index(['state', 'county', 'year'], inplace = True)"
   ]
  },
  {
   "cell_type": "code",
   "execution_count": null,
   "id": "ef61a30d-dfe7-4021-9af9-ce3baa619c98",
   "metadata": {},
   "outputs": [],
   "source": []
  },
  {
   "cell_type": "code",
   "execution_count": null,
   "id": "e8c1d111-c604-4adc-b705-5c752b4a7d56",
   "metadata": {},
   "outputs": [],
   "source": []
  },
  {
   "cell_type": "code",
   "execution_count": null,
   "id": "04f3e57a-dd69-4998-8392-9b55f9bc290e",
   "metadata": {},
   "outputs": [],
   "source": []
  },
  {
   "cell_type": "markdown",
   "id": "1e9613d3-71c3-49f2-9829-ff4528904af3",
   "metadata": {},
   "source": [
    "# Post Discharge Events (2008 - 2016) - HOSPITAL"
   ]
  },
  {
   "cell_type": "code",
   "execution_count": 34,
   "id": "f2973059-3a20-45b7-b823-33ecbb84df36",
   "metadata": {
    "tags": []
   },
   "outputs": [],
   "source": [
    "### Prepare necessary lists\n",
    "commoncols = ['Hospital ID', 'Hospital name', 'City', 'State']\n",
    "yearlist = ['08', '09', '10', '11','12','13','14','15']\n",
    "sheetnames = ['Medical cohort', 'Surgical cohort', 'CHF cohort', 'AMI cohort', 'Pneumonia cohort']\n",
    "\n",
    "### Iterate through years (i) and through sheets (j) while maintaing column uniqueness\n",
    "postdischarge = pd.DataFrame()\n",
    "\n",
    "for i in yearlist:\n",
    "    data1 = pd.read_excel(wd + 'PostDischarge\\\\' + 'post_discharge_events_hospital_20{0}.xlsx'.format(i), sheet_name = 'Medical cohort')\n",
    "    data2 = pd.read_excel(wd + 'PostDischarge\\\\' + 'post_discharge_events_hospital_20{0}.xlsx'.format(i), sheet_name = 'Surgical cohort')\n",
    "    data3 = pd.read_excel(wd + 'PostDischarge\\\\' + 'post_discharge_events_hospital_20{0}.xlsx'.format(i), sheet_name = 'CHF cohort')\n",
    "    data4 = pd.read_excel(wd + 'PostDischarge\\\\' + 'post_discharge_events_hospital_20{0}.xlsx'.format(i), sheet_name = 'AMI cohort')\n",
    "    data5 = pd.read_excel(wd + 'PostDischarge\\\\' + 'post_discharge_events_hospital_20{0}.xlsx'.format(i), sheet_name = 'Pneumonia cohort')\n",
    "\n",
    "    data = [data1, data2, data3, data4, data5] \n",
    "    \n",
    "    ### This portion is mostly to edit the columns while keeping them unique\n",
    "    for j in range(len(sheetnames)):\n",
    "        data[j].drop(columns = data[j].columns[data[j].columns.str.contains('Unnamed')], axis = 1, inplace = True)\n",
    "        data[j].drop(0, axis = 0, inplace = True)\n",
    "        data[j].columns = data[j].columns.str.replace('\\(20{0}\\)'.format(i), '', regex = True)\n",
    "        data[j].columns = data[j].columns.str.strip()\n",
    "    \n",
    "        \n",
    "        newcols = [varname + sheetnames[j] for varname in data[j].columns[4:]]\n",
    "        firstcols = data[j].columns[:4].tolist()\n",
    "        totalcols = firstcols + newcols\n",
    "\n",
    "        data[j].columns = totalcols\n",
    "        \n",
    "    ### Merge all five sheets into one new dataframe\n",
    "    \n",
    "    merged = pd.merge(pd.merge(pd.merge(pd.merge(data1, data2, on = commoncols, how = 'outer'), data3, on = commoncols, how = 'outer'), data4, on = commoncols, how = 'outer'), data5, on = commoncols, how = 'outer')\n",
    "    \n",
    "    year = '20{}'.format(i)\n",
    "    year = int(year)\n",
    "    merged['year'] = year\n",
    "        \n",
    "    postdischarge = pd.concat([postdischarge, merged])\n",
    "\n",
    "### Rename the new dataframe\n",
    "\n",
    "newnames = ['provider.id', 'hospital.name', 'city', 'state', 'num.med.coh', 'pct.readmin.30.med', 'pct.primary.14.med', \n",
    "            'pct.ambu.14.med', 'pct.er.30.med', 'num.surg.coh', 'pct.readmin.30.surg', 'pct.primary.14.surg', 'pct.er.30.surg', \n",
    "            'num.chf.coh', 'pct.readmin.30.chf', 'pct.primary.14.chf', 'pct.ambu.14.chf', 'pct.er.30.chf', 'num.ami.coh',\n",
    "            'pct.readmin.30.ami', 'pct.primary.14.ami', 'pct.ambu.14.ami', 'pct.er.30.ami', 'num.pneum.coh',\n",
    "            'pct.readmin.30.pneum', 'pct.primary.14.pneum', 'pct.ambu.14.pneum', 'pct.er.30.pneum', 'year']\n",
    "\n",
    "\n",
    "postdischarge.columns = newnames\n",
    "postdischarge.reset_index(inplace = True)\n",
    "\n",
    "\n",
    "for name in postdischarge.columns[5:]:\n",
    "    if type(postdischarge[name][1]) == str:\n",
    "        postdischarge[name] = postdischarge[name].str.replace('\\(' , '-', regex = True)\n",
    "        postdischarge[name] = postdischarge[name].str.replace('\\)', '', regex = True)\n",
    "    \n",
    "    postdischarge[name] = pd.to_numeric(postdischarge[name], errors = 'coerce')\n",
    "    \n",
    "postdischarge.drop('index', axis =1, inplace = True)"
   ]
  },
  {
   "cell_type": "code",
   "execution_count": 35,
   "id": "ebd26805-5627-4885-8a8d-1f818f829f4c",
   "metadata": {},
   "outputs": [],
   "source": [
    "# Merge the cross walk data to the postdischarge dataset\n",
    "\n",
    "postdischarge1 = pd.merge(postdischarge, crosswalk, on = ['provider.id', 'year'], how = 'left')"
   ]
  },
  {
   "cell_type": "code",
   "execution_count": 36,
   "id": "edbeb5b0-4f91-486f-8aa2-e5bb7f9bba08",
   "metadata": {
    "tags": []
   },
   "outputs": [],
   "source": [
    "### This process takes the values in this data and groups it by hsa and year and averages out duplicates\n",
    "postdischarge3 = postdischarge1.drop(['hospital.name', 'city', 'state_x', 'hsa.name', 'fcntyname'], axis = 1)\n",
    "\n",
    "postdischarge3 = postdischarge3.groupby(['state_y','county', 'year'], as_index = False).mean()"
   ]
  },
  {
   "cell_type": "code",
   "execution_count": null,
   "id": "37cf2f7d-c014-4998-a9e2-b0d72bc559b8",
   "metadata": {
    "tags": []
   },
   "outputs": [],
   "source": []
  },
  {
   "cell_type": "code",
   "execution_count": 37,
   "id": "69d2aac1-194e-4ccf-8a78-0a7ed0118356",
   "metadata": {
    "tags": []
   },
   "outputs": [],
   "source": [
    "postdischarge3['year'] = pd.to_datetime(postdischarge3['year'].astype(str))\n",
    "postdischarge3 = postdischarge3.rename(columns = {'state_y':'state'})\n",
    "postdischarge3.set_index(['state', 'county', 'year'], inplace = True)"
   ]
  },
  {
   "cell_type": "code",
   "execution_count": null,
   "id": "b495e1fa-4af2-4a67-b134-49cb39843fa8",
   "metadata": {},
   "outputs": [],
   "source": []
  },
  {
   "cell_type": "markdown",
   "id": "fc3e85f6-ada9-42c1-a39f-09d8d536ce46",
   "metadata": {
    "tags": []
   },
   "source": [
    "# Primary Care Access and Quality Measures (2008 - 2014) - HSA"
   ]
  },
  {
   "cell_type": "code",
   "execution_count": 38,
   "id": "72a6c8d7-c5af-439a-b32d-30d3eee05177",
   "metadata": {
    "tags": []
   },
   "outputs": [],
   "source": [
    "yearlist = ['08', '09', '10', '11','12','13','14']\n",
    "\n",
    "\n",
    "nameslist = ['hsa.num', 'hsa.name', 'overall.medicare', 'black.medicare',\n",
    "            'white.medicare', 'one.prim.care.overall', 'one.prim.care.black', 'one.prim.care.white',\n",
    "            'diab.65-75.overall', 'diab.65-75.black', 'diab.65-75.white', \n",
    "            'pct.diab.hemo.65-75.overall', 'pct.diab.hemo.65-75.black', 'pct.diab.hemo.65-75.white',\n",
    "            'pct.diab.eye.65-75.overall', 'pct.diab.eye.65-75.black', 'pct.diab.eye.65-75.white', \n",
    "            'pct.diab.ldl.65-75.overall', 'pct.diab.ldl.65-75.black', 'pct.diab.ldl.65-75.white',\n",
    "            'num.fem.67-69.overall', 'num.fem.67-69.black', 'num.fem.67-69.white', \n",
    "            'pct.fem.mamo.overall', 'pct.fem.mamo.black', 'pct.fem.mamo.white', \n",
    "            'num.part.a.overall', 'num.part.a.black', 'num.part.a.white',\n",
    "            'leg.amp.per.1000.overall', 'leg.amp.per.1000.black', 'leg.amp.per.1000.white', \n",
    "            'dis.ambu.care.sens.per.1000.overall', 'dis.ambu.care.sens.per.1000.black', 'dis.ambu.care.sense.per.1000.white', 'year']\n",
    "\n",
    "primarycare = pd.DataFrame()\n",
    "\n",
    "for i in yearlist:\n",
    "    data = pd.read_excel(wd + 'PrimaryCareAccess\\\\' + 'PC_HSA_rates_20{0}.xlsx'.format(i), skiprows = 2)\n",
    "    data.drop(columns = data.columns[data.columns.str.contains('confidence')], inplace = True)\n",
    "    year = '20{}'.format(i)\n",
    "    year = int(year)\n",
    "    data['year'] = year\n",
    "    data.columns = nameslist\n",
    "        \n",
    "    primarycare = pd.concat([primarycare, data])\n",
    "\n",
    "    \n",
    "primarycare.reset_index(inplace = True)\n",
    "primarycare[['state', 'county', 'dropme']] = primarycare['hsa.name'].str.split('-', expand = True)\n",
    "primarycare.drop('dropme', axis =1, inplace = True)\n",
    "primarycare.drop('index', axis =1, inplace = True)\n",
    "primarycare['county'] = primarycare['county'].str.title()"
   ]
  },
  {
   "cell_type": "code",
   "execution_count": null,
   "id": "d7441b4d-84a3-44d7-82bb-6266a9cf5970",
   "metadata": {},
   "outputs": [],
   "source": []
  },
  {
   "cell_type": "code",
   "execution_count": 39,
   "id": "a945fe18-55ec-40c2-b735-b9f88e20e0ae",
   "metadata": {
    "tags": []
   },
   "outputs": [],
   "source": [
    "primarycare1 = pd.merge(primarycare, hsa_crosswalk, on = ['hsa.num'], how = 'left', indicator = True)"
   ]
  },
  {
   "cell_type": "code",
   "execution_count": 40,
   "id": "af271bbd-a768-45be-92ba-aef8c1daf92e",
   "metadata": {
    "tags": []
   },
   "outputs": [],
   "source": [
    "primarycare1 = primarycare1.groupby(['state_y', 'county_y', 'year']).mean(numeric_only = True).reset_index()"
   ]
  },
  {
   "cell_type": "code",
   "execution_count": null,
   "id": "e8d3d86b-87dc-4b9d-bf4b-043cb293eadf",
   "metadata": {},
   "outputs": [],
   "source": []
  },
  {
   "cell_type": "code",
   "execution_count": 41,
   "id": "dfde62e1-4db7-4df3-9b4f-3d18ed7e8a69",
   "metadata": {
    "tags": []
   },
   "outputs": [],
   "source": [
    "primarycare1['year'] = pd.to_datetime(primarycare1['year'].astype(str))\n",
    "primarycare1 = primarycare1.rename(columns =renamer)\n",
    "primarycare1.set_index(['state', 'county', 'year'], inplace = True)"
   ]
  },
  {
   "cell_type": "code",
   "execution_count": null,
   "id": "7327474f-7194-46ae-b09b-5e40150645d0",
   "metadata": {},
   "outputs": [],
   "source": []
  },
  {
   "cell_type": "markdown",
   "id": "fbc8fc54-c969-4435-a668-e3013e1be759",
   "metadata": {},
   "source": [
    "# Medicare Reimbursements (2006 - 2016 (more available)) - HSA"
   ]
  },
  {
   "cell_type": "code",
   "execution_count": 42,
   "id": "77fb0c93-687f-4716-93d8-8d313e63fa3c",
   "metadata": {
    "tags": []
   },
   "outputs": [],
   "source": [
    "### Grab  and create a dataframe from all the data\n",
    "\n",
    "yearlist = ['06', '07', '08', '09', '10', '11','12','13','14','15','16',]\n",
    "nameslist = ['hsa.num', 'hsa.name', 'state', 'medicare.enrollee', 'total.a/b.asr', 'total.a/b.pasr', 'hsnf.asr', 'hsnf.pasr', 'phys.reimb.asr', \n",
    "             'phys.reimb.pasr', 'out.reimb.asr', 'out.reimb.pasr', 'home.reimb.asr', 'home.reimb.pasr', 'hospice.reimb.asr', 'hospice.reimb.pasr', \n",
    "             'dme.reimb.asr', 'dme.reimb.pasr', 'year']\n",
    "\n",
    "payments = pd.DataFrame()\n",
    "\n",
    "for i in yearlist:\n",
    "    data = pd.read_excel(wd + 'MedicareReimbursements\\\\' + 'pa_reimb_hsa_20{0}.xlsx'.format(i))\n",
    "    year = '20{}'.format(i)\n",
    "    year = int(year)\n",
    "    data['year'] = year\n",
    "    data.columns = nameslist\n",
    "    \n",
    "    if year < 2010:\n",
    "        data['medicare.enrollee'] = data['medicare.enrollee']*5\n",
    "    \n",
    "    data.drop(0, axis = 0, inplace = True)\n",
    "    \n",
    "    payments = pd.concat([payments, data])\n",
    "\n",
    "### Reset the index and fix the county/state labelling\n",
    "\n",
    "payments.reset_index(inplace = True)\n",
    "#payments[['state', 'county']] = payments['hsa.name'].str.split('-', expand = True)\n",
    "#payments.drop(['dropme', 'index'], axis =1, inplace = True)\n",
    "#payments['county'] = payments['county'].str.title()\n",
    "\n",
    "\n",
    "### Force the data to be numeric where appropriate\n",
    "\n",
    "for name in payments.columns[4:18]:\n",
    "    payments[name] = pd.to_numeric(payments[name], errors = 'coerce')"
   ]
  },
  {
   "cell_type": "code",
   "execution_count": null,
   "id": "37efab79-f787-4233-bf51-1c702ff3446a",
   "metadata": {},
   "outputs": [],
   "source": []
  },
  {
   "cell_type": "code",
   "execution_count": 43,
   "id": "ce661f69-b1a8-4a9f-bd48-e9ceb1380e54",
   "metadata": {
    "tags": []
   },
   "outputs": [],
   "source": [
    "payments1 = pd.merge(payments, hsa_crosswalk, on = ['hsa.num'], how = 'left', indicator = True)"
   ]
  },
  {
   "cell_type": "code",
   "execution_count": 44,
   "id": "a8ff3fda-53db-4de4-bab0-a7422cb3b280",
   "metadata": {
    "tags": []
   },
   "outputs": [],
   "source": [
    "payments1 = payments1.groupby(['state_y', 'county', 'year']).mean(numeric_only = True).reset_index()"
   ]
  },
  {
   "cell_type": "code",
   "execution_count": null,
   "id": "3ebdb251-74d0-499a-836a-6a448a735bd2",
   "metadata": {},
   "outputs": [],
   "source": []
  },
  {
   "cell_type": "code",
   "execution_count": 45,
   "id": "7c357166-e0b9-4335-8540-a13e42b826d9",
   "metadata": {
    "tags": []
   },
   "outputs": [],
   "source": [
    "payments1['year'] = pd.to_datetime(payments1['year'].astype(str))\n",
    "payments1 = payments1.rename(columns = {'state_y':'state'})\n",
    "payments1.set_index(['state', 'county', 'year'], inplace = True)"
   ]
  },
  {
   "cell_type": "code",
   "execution_count": null,
   "id": "cb60f594-3fbd-4ae3-a385-3daee75fd220",
   "metadata": {},
   "outputs": [],
   "source": []
  },
  {
   "cell_type": "code",
   "execution_count": null,
   "id": "d9ed9d01-a6a1-4be7-9847-b443c2ebbfeb",
   "metadata": {},
   "outputs": [],
   "source": []
  },
  {
   "cell_type": "markdown",
   "id": "94e7f8ee-f294-4e5a-980c-3d30fbdddad5",
   "metadata": {},
   "source": [
    "# Merge all State, County, Year level data into one dataframe"
   ]
  },
  {
   "cell_type": "code",
   "execution_count": 46,
   "id": "916ee8d5-3a69-4c07-af5a-435bdd7e2f47",
   "metadata": {
    "tags": []
   },
   "outputs": [
    {
     "name": "stdout",
     "output_type": "stream",
     "text": [
      "mortality is (33787, 5)\n",
      "surg_discharge is (28776, 19)\n",
      "med_discharge is (28776, 19)\n",
      "chronic_care2 is (9978, 67)\n",
      "endoflife is (28776, 15)\n",
      "postdischarge2 is (14820, 27)\n",
      "payments is (28776, 16)\n",
      "primarycare is (18312, 34)\n"
     ]
    }
   ],
   "source": [
    "datastrings = ['mortality', 'surg_discharge', 'med_discharge', 'chronic_care2', 'endoflife', 'postdischarge2', 'payments', 'primarycare']\n",
    "datanames = [mortality1, surg_discharge1, med_discharge1, chronic_care3, endoflife1, postdischarge3, payments1, primarycare1]\n",
    "for i, names in enumerate(datanames):\n",
    "    print('{1} is {0}'.format(names.shape, datastrings[i]))"
   ]
  },
  {
   "cell_type": "code",
   "execution_count": null,
   "id": "e7035a00-b74b-4424-a33f-198cfa7704ca",
   "metadata": {},
   "outputs": [],
   "source": []
  },
  {
   "cell_type": "code",
   "execution_count": null,
   "id": "4c14a50e-4bbc-46fd-81cc-db07a8bebe37",
   "metadata": {},
   "outputs": [],
   "source": []
  },
  {
   "cell_type": "markdown",
   "id": "307f11c2-d719-486f-8cf1-f3b7bfe943ff",
   "metadata": {},
   "source": [
    "# This is the merging area\n"
   ]
  },
  {
   "cell_type": "markdown",
   "id": "1aa083ac-1645-40d7-8fa4-b360ed70e7dc",
   "metadata": {},
   "source": [
    "### This first section creates a \"complete data\" set by narrowing down"
   ]
  },
  {
   "cell_type": "code",
   "execution_count": 47,
   "id": "138ad9a1-d4f1-4f49-98e3-c69bd7dfa2be",
   "metadata": {
    "tags": []
   },
   "outputs": [],
   "source": [
    "# This results in no data loss do to dimensional reduction:\n",
    "merge1 = pd.merge(surg_discharge1, med_discharge1, left_index = True, right_index = True, how = 'inner')"
   ]
  },
  {
   "cell_type": "code",
   "execution_count": 48,
   "id": "b1cabf66-7efd-42fb-ae65-fd133cb35107",
   "metadata": {
    "tags": []
   },
   "outputs": [
    {
     "data": {
      "text/plain": [
       "(28776, 38)"
      ]
     },
     "execution_count": 48,
     "metadata": {},
     "output_type": "execute_result"
    }
   ],
   "source": [
    "merge1.shape"
   ]
  },
  {
   "cell_type": "code",
   "execution_count": 49,
   "id": "8332d649-2f0a-4937-bf7d-6d72f35272e7",
   "metadata": {
    "tags": []
   },
   "outputs": [],
   "source": [
    "# This results in no data loss do to dimensional reduction:\n",
    "merge2 = pd.merge(endoflife1, payments1, left_index = True,  right_index = True, how = 'inner')"
   ]
  },
  {
   "cell_type": "code",
   "execution_count": 50,
   "id": "847bbda1-98a6-4ea7-b37d-fa3322234b6e",
   "metadata": {
    "tags": []
   },
   "outputs": [
    {
     "data": {
      "text/plain": [
       "(28776, 31)"
      ]
     },
     "execution_count": 50,
     "metadata": {},
     "output_type": "execute_result"
    }
   ],
   "source": [
    "merge2.shape"
   ]
  },
  {
   "cell_type": "code",
   "execution_count": 51,
   "id": "e02fc777-a21b-4eb8-acda-7201732b04ce",
   "metadata": {
    "tags": []
   },
   "outputs": [],
   "source": [
    "merge3 = pd.merge(primarycare1, mortality1, left_index = True,  right_index = True, how = 'right')"
   ]
  },
  {
   "cell_type": "code",
   "execution_count": 52,
   "id": "29d1ed77-c862-4165-ad50-b835f2789be1",
   "metadata": {
    "tags": []
   },
   "outputs": [],
   "source": [
    "### This is the only merge with unexpected data loss expected, so a merge left is done to perserve hci.2yr index values\n",
    "merge4 = pd.merge(chronic_care3, postdischarge3, left_index = True,  right_index = True, how = 'left')"
   ]
  },
  {
   "cell_type": "code",
   "execution_count": 53,
   "id": "0d55fafb-ac5e-46c2-a9e7-8e19f9cf113a",
   "metadata": {
    "tags": []
   },
   "outputs": [],
   "source": [
    "merge5 = pd.merge(merge1, merge2, left_index = True,  right_index = True, how = 'inner')"
   ]
  },
  {
   "cell_type": "code",
   "execution_count": 54,
   "id": "3f57d284-7515-4b7c-963e-33b782384eaa",
   "metadata": {
    "tags": []
   },
   "outputs": [],
   "source": [
    "merge6 = pd.merge(merge3, merge4, left_index = True,  right_index = True, how = 'inner')"
   ]
  },
  {
   "cell_type": "code",
   "execution_count": 55,
   "id": "f73a162f-50fd-49ac-9bb3-61bf0faacc04",
   "metadata": {
    "tags": []
   },
   "outputs": [
    {
     "data": {
      "text/plain": [
       "(9978, 133)"
      ]
     },
     "execution_count": 55,
     "metadata": {},
     "output_type": "execute_result"
    }
   ],
   "source": [
    "merge6.shape"
   ]
  },
  {
   "cell_type": "code",
   "execution_count": 56,
   "id": "2550478d-0b8f-4f6b-8be3-6962f22f89aa",
   "metadata": {
    "tags": []
   },
   "outputs": [],
   "source": [
    "dartmouth = pd.merge(merge5, merge6, left_index = True,  right_index = True, how = 'inner')"
   ]
  },
  {
   "cell_type": "code",
   "execution_count": 57,
   "id": "6460fbb7-6b2f-4585-87cf-6de672669318",
   "metadata": {
    "tags": []
   },
   "outputs": [],
   "source": [
    "dartmouth.to_excel('dartmouthdata.xlsx', index = True)"
   ]
  },
  {
   "cell_type": "code",
   "execution_count": 58,
   "id": "f9c81eb3-e0b3-462b-8451-25fb965919aa",
   "metadata": {
    "tags": []
   },
   "outputs": [],
   "source": [
    "demos = pd.read_csv('demographics.csv', parse_dates = ['year']).set_index(['state', 'county', 'year'])"
   ]
  },
  {
   "cell_type": "code",
   "execution_count": 59,
   "id": "9606c61b-f3ae-4979-a33e-4be6837366f3",
   "metadata": {
    "tags": []
   },
   "outputs": [],
   "source": [
    "completedata = pd.merge(dartmouth, demos, left_index = True, right_index = True, how = 'inner')"
   ]
  },
  {
   "cell_type": "code",
   "execution_count": 60,
   "id": "c590420d-6f6d-421d-8e96-42d31bc999c8",
   "metadata": {
    "tags": []
   },
   "outputs": [],
   "source": [
    "#pd.set_option('display.max_columns', 500)"
   ]
  },
  {
   "cell_type": "code",
   "execution_count": null,
   "id": "e1de1b69-de23-469f-8b73-2b2638668414",
   "metadata": {},
   "outputs": [],
   "source": []
  },
  {
   "cell_type": "markdown",
   "id": "d84b98de-bf5d-4029-904f-9969c3ff46e3",
   "metadata": {},
   "source": [
    "### This creates a unique group id, and then exports to excel"
   ]
  },
  {
   "cell_type": "code",
   "execution_count": 61,
   "id": "f4129e5f-bee6-4a82-b753-14028497c9ff",
   "metadata": {
    "tags": []
   },
   "outputs": [],
   "source": [
    "completedata2 = completedata.reset_index()"
   ]
  },
  {
   "cell_type": "code",
   "execution_count": 62,
   "id": "c9b8578a-17c8-410f-8b4d-54e3f56039ac",
   "metadata": {
    "tags": []
   },
   "outputs": [],
   "source": [
    "completedata2.insert(0, 'uniqueid', completedata2.sort_values(['state', 'county']).groupby(['state','county']).ngroup()+1)"
   ]
  },
  {
   "cell_type": "code",
   "execution_count": 63,
   "id": "bb48e8b7-5bf3-4355-8c6d-0050fabbe035",
   "metadata": {
    "tags": []
   },
   "outputs": [],
   "source": [
    "# This section is paralleled down below, except it creates a string categorical. The numbers allow for potential stata analysis\n",
    "\n",
    "hci25 = completedata2.loc[:, 'hci.2yr'].describe()['25%']\n",
    "hci50 = completedata2.loc[:, 'hci.2yr'].describe()['50%']\n",
    "hci75 = completedata2.loc[:, 'hci.2yr'].describe()['75%']\n",
    "\n",
    "completedata2['hci.quantile'] = 0\n",
    "\n",
    "for i in range(len(completedata2.loc[:, 'hci.quantile'])):\n",
    "    if completedata2.loc[i, 'hci.2yr'] < hci25:\n",
    "        completedata2.loc[i, 'hci.quantile'] = 1\n",
    "    elif hci25 <= completedata2.loc[i, 'hci.2yr'] < hci50:\n",
    "        completedata2.loc[i, 'hci.quantile'] = 2\n",
    "    elif hci50 <= completedata2.loc[i, 'hci.2yr'] < hci75:\n",
    "        completedata2.loc[i, 'hci.quantile'] = 3\n",
    "    else:\n",
    "        completedata2.loc[i, 'hci.quantile'] = 4"
   ]
  },
  {
   "cell_type": "code",
   "execution_count": 64,
   "id": "f31f54e3-4267-48ee-a4af-dcd820850c68",
   "metadata": {
    "tags": []
   },
   "outputs": [],
   "source": [
    "### I change it back to a normal year for stata purposes, otherwise it has trouble with xtset\n",
    "\n",
    "completedata2['year'] = completedata2['year'].dt.strftime('%Y').astype(int)"
   ]
  },
  {
   "cell_type": "code",
   "execution_count": 65,
   "id": "ea314f63-c804-407f-acb6-93afca66076a",
   "metadata": {
    "tags": []
   },
   "outputs": [],
   "source": [
    "completedata2.fillna(0).to_excel('completedata.xlsx', index = False)"
   ]
  },
  {
   "cell_type": "markdown",
   "id": "a88675e6-5dec-4e25-b10f-9180ede03bee",
   "metadata": {},
   "source": []
  },
  {
   "cell_type": "code",
   "execution_count": null,
   "id": "a3bb10b2-33cc-41ab-a587-cf29b5ced6a0",
   "metadata": {},
   "outputs": [],
   "source": []
  },
  {
   "cell_type": "code",
   "execution_count": null,
   "id": "91125d4e-c721-4ace-a131-fe0ed9ade3b7",
   "metadata": {},
   "outputs": [],
   "source": []
  },
  {
   "cell_type": "markdown",
   "id": "851f24dc-3ac2-438f-8839-52576d034be5",
   "metadata": {},
   "source": [
    "# Load complete data excel spreadsheet"
   ]
  },
  {
   "cell_type": "markdown",
   "id": "1a8d49ce-a11f-4ce9-b7e8-0909fc90175a",
   "metadata": {},
   "source": [
    "### Use for getting a breakdown of different hospital HCI level variables"
   ]
  },
  {
   "cell_type": "code",
   "execution_count": 18,
   "id": "0f00fae2-14c5-4e55-8581-bc1e848a0c67",
   "metadata": {
    "tags": []
   },
   "outputs": [],
   "source": []
  },
  {
   "cell_type": "code",
   "execution_count": 106,
   "id": "453a55ee-2b94-419e-b07f-211f78b6825d",
   "metadata": {},
   "outputs": [],
   "source": [
    "import pandas as pd\n",
    "import matplotlib.pyplot as plt\n",
    "import numpy as np"
   ]
  },
  {
   "cell_type": "code",
   "execution_count": 67,
   "id": "489c55d0-daab-49c7-9af5-f1ab2da88c8d",
   "metadata": {},
   "outputs": [],
   "source": [
    "complete = pd.read_excel('completedata.xlsx')"
   ]
  },
  {
   "cell_type": "code",
   "execution_count": 68,
   "id": "b4e701b7-fa9d-4ccb-b93b-413a996927bd",
   "metadata": {
    "tags": []
   },
   "outputs": [],
   "source": [
    "hci25 = complete['hci.2yr'].quantile(.25)\n",
    "hci33 = complete['hci.2yr'].quantile(.34)\n",
    "hci50 = complete['hci.2yr'].quantile(.5)\n",
    "hci67 = complete['hci.2yr'].quantile(.68)\n",
    "hci75 = complete['hci.2yr'].quantile(.75)\n",
    "hci100 = complete['hci.2yr'].quantile(1)\n",
    "\n",
    "hci_third = {'33rd':1, '67th':2, '100th':3}\n",
    "hci_quart = {'25th':1, '50th':2, '75th':3, '100th':4}"
   ]
  },
  {
   "cell_type": "code",
   "execution_count": 69,
   "id": "5b9496ba-c1dc-48f0-95e5-9bc0dc16b60c",
   "metadata": {
    "tags": []
   },
   "outputs": [],
   "source": [
    "complete['hci.quartile'] = 0\n",
    "complete['hci.tercile'] = 0"
   ]
  },
  {
   "cell_type": "code",
   "execution_count": 70,
   "id": "512cd9ad-d723-4cce-81af-83d278107d9f",
   "metadata": {
    "tags": []
   },
   "outputs": [],
   "source": [
    "for i in range(len(complete.loc[:, 'hci.quartile'])):\n",
    "    if complete.loc[i, 'hci.2yr'] < hci25:\n",
    "        complete.loc[i, 'hci.quartile'] = '25th'\n",
    "    elif hci25 <= complete.loc[i, 'hci.2yr'] < hci50:\n",
    "        complete.loc[i, 'hci.quartile'] = '50th'\n",
    "    elif hci50 <= complete.loc[i, 'hci.2yr'] < hci75:\n",
    "        complete.loc[i, 'hci.quartile'] = '75th'\n",
    "    else:\n",
    "        complete.loc[i, 'hci.quartile'] = '100th'"
   ]
  },
  {
   "cell_type": "code",
   "execution_count": 71,
   "id": "226a6146-b437-416e-bc94-e9a4bcc1a5db",
   "metadata": {
    "tags": []
   },
   "outputs": [],
   "source": [
    "for i in range(len(complete.loc[:, 'hci.tercile'])):\n",
    "    if complete.loc[i, 'hci.2yr'] < hci33:\n",
    "        complete.loc[i, 'hci.tercile'] = '33rd'\n",
    "    elif hci33 <= complete.loc[i, 'hci.2yr'] < hci67:\n",
    "        complete.loc[i, 'hci.tercile'] = '67th'\n",
    "    else:\n",
    "        complete.loc[i, 'hci.tercile'] = '100th'"
   ]
  },
  {
   "cell_type": "code",
   "execution_count": 72,
   "id": "2728fbd5-acb9-4a54-ad9d-9956c4cdf2fc",
   "metadata": {
    "tags": []
   },
   "outputs": [],
   "source": [
    "coldict = {'pctwhite65': 'Percent White >65', 'pctblack65': 'Percent Black >65',\n",
    "          'pctmale': 'Percent Male', 'pctfem':'Percent Female', 'pctbachplus':'Percent Bachelors+',\n",
    "          'pctsomecol':'Percent Some College', 'pcthsonly': 'Percent Only HS'}"
   ]
  },
  {
   "cell_type": "code",
   "execution_count": 73,
   "id": "7dd91d8c-ae4e-4cde-a8d3-6f9d90e342fd",
   "metadata": {
    "tags": []
   },
   "outputs": [],
   "source": [
    "linestyles = {'pctwhite65': '--', 'pctblack65': ':',\n",
    "          'pctmale': '-.', 'pctfem':'-', 'pctbachplus':'--',\n",
    "          'pctsomecol':':', 'pcthsonly': '-.'}"
   ]
  },
  {
   "cell_type": "code",
   "execution_count": 74,
   "id": "a6836c4d-4fa7-4567-92f6-683ec9594c99",
   "metadata": {
    "tags": []
   },
   "outputs": [],
   "source": [
    "coldict2 = {'pctwhite65': 'Percent White >65', 'pctblack65': 'Percent Black >65',\n",
    "          'pctmale': 'Percent Male', 'pctfem':'Percent Female', 'pctbachplus':'Percent Bachelors+',\n",
    "          'pctsomecol':'Percent Some College', 'pcthsonly': 'Percent Only HS',\n",
    "          'pct.readmin.30.surg':'Percent Surg Readmin (30)', 'pct.readmin.30.med':'Percent Med Readmin (30)', 'hci.tercile':'test'}"
   ]
  },
  {
   "cell_type": "code",
   "execution_count": 75,
   "id": "608ad7cf-d96d-45ce-965c-2044fab8a018",
   "metadata": {},
   "outputs": [],
   "source": [
    "# Create a column of cost data that is normed by HCI\n",
    "complete['costs_hci_norm'] = complete['total.a/b.pasr']/complete['hci.2yr']"
   ]
  },
  {
   "cell_type": "code",
   "execution_count": 76,
   "id": "94f0baeb-bc64-453d-84db-3819999ba210",
   "metadata": {
    "tags": []
   },
   "outputs": [
    {
     "data": {
      "text/html": [
       "<div>\n",
       "<style scoped>\n",
       "    .dataframe tbody tr th:only-of-type {\n",
       "        vertical-align: middle;\n",
       "    }\n",
       "\n",
       "    .dataframe tbody tr th {\n",
       "        vertical-align: top;\n",
       "    }\n",
       "\n",
       "    .dataframe thead tr th {\n",
       "        text-align: left;\n",
       "    }\n",
       "\n",
       "    .dataframe thead tr:last-of-type th {\n",
       "        text-align: right;\n",
       "    }\n",
       "</style>\n",
       "<table border=\"1\" class=\"dataframe\">\n",
       "  <thead>\n",
       "    <tr>\n",
       "      <th></th>\n",
       "      <th colspan=\"3\" halign=\"left\">pctwhite65</th>\n",
       "      <th colspan=\"3\" halign=\"left\">pctblack65</th>\n",
       "      <th colspan=\"3\" halign=\"left\">pctmale</th>\n",
       "      <th>pctfem</th>\n",
       "      <th>...</th>\n",
       "      <th>pctsomecol</th>\n",
       "      <th colspan=\"3\" halign=\"left\">pcthsonly</th>\n",
       "      <th colspan=\"3\" halign=\"left\">pct.readmin.30.surg</th>\n",
       "      <th colspan=\"3\" halign=\"left\">pct.readmin.30.med</th>\n",
       "    </tr>\n",
       "    <tr>\n",
       "      <th></th>\n",
       "      <th>mean</th>\n",
       "      <th>max</th>\n",
       "      <th>min</th>\n",
       "      <th>mean</th>\n",
       "      <th>max</th>\n",
       "      <th>min</th>\n",
       "      <th>mean</th>\n",
       "      <th>max</th>\n",
       "      <th>min</th>\n",
       "      <th>mean</th>\n",
       "      <th>...</th>\n",
       "      <th>min</th>\n",
       "      <th>mean</th>\n",
       "      <th>max</th>\n",
       "      <th>min</th>\n",
       "      <th>mean</th>\n",
       "      <th>max</th>\n",
       "      <th>min</th>\n",
       "      <th>mean</th>\n",
       "      <th>max</th>\n",
       "      <th>min</th>\n",
       "    </tr>\n",
       "    <tr>\n",
       "      <th>hci.tercile</th>\n",
       "      <th></th>\n",
       "      <th></th>\n",
       "      <th></th>\n",
       "      <th></th>\n",
       "      <th></th>\n",
       "      <th></th>\n",
       "      <th></th>\n",
       "      <th></th>\n",
       "      <th></th>\n",
       "      <th></th>\n",
       "      <th></th>\n",
       "      <th></th>\n",
       "      <th></th>\n",
       "      <th></th>\n",
       "      <th></th>\n",
       "      <th></th>\n",
       "      <th></th>\n",
       "      <th></th>\n",
       "      <th></th>\n",
       "      <th></th>\n",
       "      <th></th>\n",
       "    </tr>\n",
       "  </thead>\n",
       "  <tbody>\n",
       "    <tr>\n",
       "      <th>100th</th>\n",
       "      <td>5.159382</td>\n",
       "      <td>20.228542</td>\n",
       "      <td>1.185675</td>\n",
       "      <td>0.484312</td>\n",
       "      <td>3.653812</td>\n",
       "      <td>0.0</td>\n",
       "      <td>49.120393</td>\n",
       "      <td>60.413281</td>\n",
       "      <td>45.770118</td>\n",
       "      <td>50.879607</td>\n",
       "      <td>...</td>\n",
       "      <td>11.2</td>\n",
       "      <td>31.388183</td>\n",
       "      <td>52.7</td>\n",
       "      <td>7.4</td>\n",
       "      <td>9.707927</td>\n",
       "      <td>30.308437</td>\n",
       "      <td>0.0</td>\n",
       "      <td>14.570627</td>\n",
       "      <td>23.043880</td>\n",
       "      <td>0.0</td>\n",
       "    </tr>\n",
       "    <tr>\n",
       "      <th>33rd</th>\n",
       "      <td>5.931965</td>\n",
       "      <td>12.471964</td>\n",
       "      <td>1.190723</td>\n",
       "      <td>0.214153</td>\n",
       "      <td>3.816411</td>\n",
       "      <td>0.0</td>\n",
       "      <td>49.623502</td>\n",
       "      <td>61.220456</td>\n",
       "      <td>43.236695</td>\n",
       "      <td>50.376498</td>\n",
       "      <td>...</td>\n",
       "      <td>18.3</td>\n",
       "      <td>32.972922</td>\n",
       "      <td>51.1</td>\n",
       "      <td>12.1</td>\n",
       "      <td>4.607319</td>\n",
       "      <td>18.240986</td>\n",
       "      <td>0.0</td>\n",
       "      <td>11.935192</td>\n",
       "      <td>22.587413</td>\n",
       "      <td>0.0</td>\n",
       "    </tr>\n",
       "    <tr>\n",
       "      <th>67th</th>\n",
       "      <td>5.368312</td>\n",
       "      <td>15.995917</td>\n",
       "      <td>1.281931</td>\n",
       "      <td>0.405029</td>\n",
       "      <td>3.659107</td>\n",
       "      <td>0.0</td>\n",
       "      <td>49.342914</td>\n",
       "      <td>59.860658</td>\n",
       "      <td>45.798267</td>\n",
       "      <td>50.657086</td>\n",
       "      <td>...</td>\n",
       "      <td>12.5</td>\n",
       "      <td>32.539298</td>\n",
       "      <td>52.7</td>\n",
       "      <td>9.1</td>\n",
       "      <td>6.821653</td>\n",
       "      <td>24.202785</td>\n",
       "      <td>0.0</td>\n",
       "      <td>13.494613</td>\n",
       "      <td>26.111247</td>\n",
       "      <td>0.0</td>\n",
       "    </tr>\n",
       "  </tbody>\n",
       "</table>\n",
       "<p>3 rows × 27 columns</p>\n",
       "</div>"
      ],
      "text/plain": [
       "            pctwhite65                      pctblack65                 \\\n",
       "                  mean        max       min       mean       max  min   \n",
       "hci.tercile                                                             \n",
       "100th         5.159382  20.228542  1.185675   0.484312  3.653812  0.0   \n",
       "33rd          5.931965  12.471964  1.190723   0.214153  3.816411  0.0   \n",
       "67th          5.368312  15.995917  1.281931   0.405029  3.659107  0.0   \n",
       "\n",
       "               pctmale                           pctfem  ... pctsomecol  \\\n",
       "                  mean        max        min       mean  ...        min   \n",
       "hci.tercile                                              ...              \n",
       "100th        49.120393  60.413281  45.770118  50.879607  ...       11.2   \n",
       "33rd         49.623502  61.220456  43.236695  50.376498  ...       18.3   \n",
       "67th         49.342914  59.860658  45.798267  50.657086  ...       12.5   \n",
       "\n",
       "             pcthsonly             pct.readmin.30.surg                  \\\n",
       "                  mean   max   min                mean        max  min   \n",
       "hci.tercile                                                              \n",
       "100th        31.388183  52.7   7.4            9.707927  30.308437  0.0   \n",
       "33rd         32.972922  51.1  12.1            4.607319  18.240986  0.0   \n",
       "67th         32.539298  52.7   9.1            6.821653  24.202785  0.0   \n",
       "\n",
       "            pct.readmin.30.med                  \n",
       "                          mean        max  min  \n",
       "hci.tercile                                     \n",
       "100th                14.570627  23.043880  0.0  \n",
       "33rd                 11.935192  22.587413  0.0  \n",
       "67th                 13.494613  26.111247  0.0  \n",
       "\n",
       "[3 rows x 27 columns]"
      ]
     },
     "execution_count": 76,
     "metadata": {},
     "output_type": "execute_result"
    }
   ],
   "source": [
    "complete.loc[:, coldict2.keys()].groupby('hci.tercile').agg(['mean', 'max', 'min'])"
   ]
  },
  {
   "cell_type": "code",
   "execution_count": 77,
   "id": "68720d67-0bb4-4f41-9537-2903a3910763",
   "metadata": {
    "tags": []
   },
   "outputs": [
    {
     "data": {
      "image/png": "[encoded data removed]",
      "text/plain": [
       "<Figure size 1000x700 with 4 Axes>"
      ]
     },
     "metadata": {},
     "output_type": "display_data"
    }
   ],
   "source": [
    "fig, ax = plt.subplots(4,1, figsize = (10,7))\n",
    "\n",
    "hcitype = 'hci.tercile'\n",
    "\n",
    "for i in coldict.keys():\n",
    "    if complete.groupby(hcitype).mean(numeric_only = True).loc[:, coldict.keys()].loc[:, i][0] < 10:\n",
    "        ax[3].plot(complete.groupby(hcitype).mean(numeric_only = True).loc[:, coldict.keys()].loc[:, i].sort_values(ascending = False), \n",
    "                   color = 'black', linestyle = linestyles[i], label = coldict[i])\n",
    "        \n",
    "    elif complete.groupby(hcitype).mean(numeric_only = True).loc[:, coldict.keys()].loc[:, i][0] > 45:\n",
    "        ax[0].plot(complete.groupby(hcitype).mean(numeric_only = True).loc[:, coldict.keys()].loc[:, i].sort_values(ascending = False), \n",
    "                   color = 'black', linestyle = linestyles[i], label = coldict[i])\n",
    "    else:\n",
    "        ax[1].plot(complete.groupby(hcitype).mean(numeric_only = True).loc[:, coldict.keys()].loc[:, i].sort_values(ascending = True), \n",
    "                  color = 'black', linestyle = linestyles[i], label = coldict[i])\n",
    "        \n",
    "ax[0].set_title(\"Figure 1: Change in Variables of Interest Across HCI Quantiles\")\n",
    "ax[1].set_ylabel(\"Percent Rate\")\n",
    "ax[2].set_xlabel(\"HCI by Quantile\")\n",
    "\n",
    "    \n",
    "ax[2].plot(complete.groupby(hcitype).mean(numeric_only = True).loc[:, 'pct.readmin.30.surg'].sort_values(ascending = True), \n",
    "                   color = 'black', linestyle = '--', label = 'Percent Surg Readmin (30)')\n",
    "ax[2].plot(complete.groupby(hcitype).mean(numeric_only = True).loc[:, 'pct.readmin.30.med'].sort_values(ascending = True), \n",
    "                   color = 'black', linestyle = '-', label = 'Percent Med Readmin (30)')\n",
    "    \n",
    "for a in ax:\n",
    "    a.legend(frameon = False, loc = 'lower left', bbox_to_anchor = (1, 0))\n",
    "    a.spines['top'].set_visible(False)\n",
    "    a.spines['right'].set_visible(False)"
   ]
  },
  {
   "cell_type": "code",
   "execution_count": 78,
   "id": "de46109c-185e-475b-a4f7-fc9a5c72a775",
   "metadata": {},
   "outputs": [],
   "source": [
    "complete['hci.tercile'] = [hci_third[i] for i in complete['hci.tercile']]"
   ]
  },
  {
   "cell_type": "code",
   "execution_count": 79,
   "id": "c34911da-b40c-4a42-b752-d229da9ad0d9",
   "metadata": {
    "tags": []
   },
   "outputs": [],
   "source": [
    "complete['hci.quartile'] = [hci_quart[i] for i in complete['hci.quartile']]"
   ]
  },
  {
   "cell_type": "code",
   "execution_count": null,
   "id": "e6b1c693-728c-48fe-9f1a-d6780517e7df",
   "metadata": {},
   "outputs": [],
   "source": []
  },
  {
   "cell_type": "code",
   "execution_count": 134,
   "id": "d0d7e1b8-a60d-4eb6-a252-8d5d12d5adb9",
   "metadata": {
    "tags": []
   },
   "outputs": [],
   "source": [
    "# Create a total cost column which is the average costs per person multiplied by people per county/year\n",
    "\n",
    "complete['total_cost'] = complete['total.a/b.pasr'] * complete['med.enrollee_x']"
   ]
  },
  {
   "cell_type": "code",
   "execution_count": 146,
   "id": "d2c18370-06cb-4e19-a21a-8822e8f68405",
   "metadata": {
    "collapsed": true,
    "jupyter": {
     "outputs_hidden": true
    },
    "tags": []
   },
   "outputs": [
    {
     "name": "stderr",
     "output_type": "stream",
     "text": [
      "C:\\Users\\jbpul\\AppData\\Local\\Temp\\ipykernel_10212\\548041067.py:1: FutureWarning: The default value of numeric_only in DataFrameGroupBy.sum is deprecated. In a future version, numeric_only will default to False. Either specify numeric_only or select only columns which should be valid for the function.\n",
      "  grouped = complete.groupby(['year', 'hci.tercile']).sum()\n"
     ]
    }
   ],
   "source": [
    "# Do a summation group to get the total_cost across all counties for each year and HCI\n",
    "\n",
    "grouped = complete.groupby(['year', 'hci.tercile']).sum()\n",
    "grouped.reset_index(inplace = True)"
   ]
  },
  {
   "cell_type": "code",
   "execution_count": 163,
   "id": "8cde6408-0659-4ad8-8194-fb7fcfb10617",
   "metadata": {
    "tags": []
   },
   "outputs": [
    {
     "name": "stderr",
     "output_type": "stream",
     "text": [
      "C:\\Users\\jbpul\\AppData\\Local\\Temp\\ipykernel_10212\\784797436.py:3: FutureWarning: Indexing with multiple keys (implicitly converted to a tuple of keys) will be deprecated, use a list instead.\n",
      "  grouped2 = grouped.groupby('hci.tercile')['total_cost', 'med.enrollee_x','total.a/b.pasr'].mean()\n"
     ]
    }
   ],
   "source": [
    "# Average the total cost across years to get the average total cost per year by HCI group\n",
    "\n",
    "grouped2 = grouped.groupby('hci.tercile')['total_cost', 'med.enrollee_x','total.a/b.pasr'].mean()"
   ]
  },
  {
   "cell_type": "code",
   "execution_count": 172,
   "id": "f5b9d400-e965-483e-9964-082b61d38bc0",
   "metadata": {
    "tags": []
   },
   "outputs": [
    {
     "data": {
      "text/plain": [
       "hci.tercile\n",
       "1    5.756086e+12\n",
       "2    1.058097e+13\n",
       "3    1.379085e+13\n",
       "dtype: float64"
      ]
     },
     "execution_count": 172,
     "metadata": {},
     "output_type": "execute_result"
    }
   ],
   "source": [
    "(grouped2['med.enrollee_x'] * grouped2['total.a/b.pasr'])/2"
   ]
  },
  {
   "cell_type": "code",
   "execution_count": 173,
   "id": "41c109df-75e8-431b-acf6-72709465b62d",
   "metadata": {
    "tags": []
   },
   "outputs": [
    {
     "data": {
      "text/plain": [
       "hci.tercile\n",
       "1    3.051652e+10\n",
       "2    5.154457e+10\n",
       "3    7.215908e+10\n",
       "Name: total_cost, dtype: float64"
      ]
     },
     "execution_count": 173,
     "metadata": {},
     "output_type": "execute_result"
    }
   ],
   "source": [
    "grouped2['total_cost']"
   ]
  },
  {
   "cell_type": "code",
   "execution_count": 166,
   "id": "cf3e15bb-3729-4ab0-b9d2-20671d936799",
   "metadata": {
    "tags": []
   },
   "outputs": [
    {
     "data": {
      "text/plain": [
       "41642552636.23139"
      ]
     },
     "execution_count": 166,
     "metadata": {},
     "output_type": "execute_result"
    }
   ],
   "source": [
    "grouped2['total_cost'].max() - grouped2['total_cost'].min()"
   ]
  },
  {
   "cell_type": "code",
   "execution_count": 158,
   "id": "74dc61c6-b642-45ad-a8e8-47f163674b16",
   "metadata": {
    "tags": []
   },
   "outputs": [
    {
     "data": {
      "text/plain": [
       "total_cost    4.164255e+10\n",
       "dtype: float64"
      ]
     },
     "execution_count": 158,
     "metadata": {},
     "output_type": "execute_result"
    }
   ],
   "source": [
    "grouped2.max() - grouped2.min()"
   ]
  },
  {
   "cell_type": "code",
   "execution_count": 80,
   "id": "ee967609-b05f-48e0-ad23-b56bc81c773b",
   "metadata": {
    "tags": []
   },
   "outputs": [],
   "source": [
    "test1 = complete.groupby('hci.tercile')[['medicare.enrollee', 'total.a/b.pasr']].mean()"
   ]
  },
  {
   "cell_type": "code",
   "execution_count": 81,
   "id": "c323bee6-20ed-4e83-a662-632ed9eadd2b",
   "metadata": {
    "tags": []
   },
   "outputs": [],
   "source": [
    "test1['mult'] = test1['medicare.enrollee']*test1['total.a/b.pasr']/1000000"
   ]
  },
  {
   "cell_type": "code",
   "execution_count": 82,
   "id": "36578820-67c6-408a-b993-f1618c719702",
   "metadata": {
    "tags": []
   },
   "outputs": [
    {
     "data": {
      "text/html": [
       "<div>\n",
       "<style scoped>\n",
       "    .dataframe tbody tr th:only-of-type {\n",
       "        vertical-align: middle;\n",
       "    }\n",
       "\n",
       "    .dataframe tbody tr th {\n",
       "        vertical-align: top;\n",
       "    }\n",
       "\n",
       "    .dataframe thead th {\n",
       "        text-align: right;\n",
       "    }\n",
       "</style>\n",
       "<table border=\"1\" class=\"dataframe\">\n",
       "  <thead>\n",
       "    <tr style=\"text-align: right;\">\n",
       "      <th></th>\n",
       "      <th>medicare.enrollee</th>\n",
       "      <th>total.a/b.pasr</th>\n",
       "      <th>mult</th>\n",
       "    </tr>\n",
       "    <tr>\n",
       "      <th>hci.tercile</th>\n",
       "      <th></th>\n",
       "      <th></th>\n",
       "      <th></th>\n",
       "    </tr>\n",
       "  </thead>\n",
       "  <tbody>\n",
       "    <tr>\n",
       "      <th>1</th>\n",
       "      <td>8857.515096</td>\n",
       "      <td>8514.811748</td>\n",
       "      <td>75.420074</td>\n",
       "    </tr>\n",
       "    <tr>\n",
       "      <th>2</th>\n",
       "      <td>12891.641310</td>\n",
       "      <td>9399.730888</td>\n",
       "      <td>121.177959</td>\n",
       "    </tr>\n",
       "    <tr>\n",
       "      <th>3</th>\n",
       "      <td>17701.753937</td>\n",
       "      <td>10149.097094</td>\n",
       "      <td>179.656819</td>\n",
       "    </tr>\n",
       "  </tbody>\n",
       "</table>\n",
       "</div>"
      ],
      "text/plain": [
       "             medicare.enrollee  total.a/b.pasr        mult\n",
       "hci.tercile                                               \n",
       "1                  8857.515096     8514.811748   75.420074\n",
       "2                 12891.641310     9399.730888  121.177959\n",
       "3                 17701.753937    10149.097094  179.656819"
      ]
     },
     "execution_count": 82,
     "metadata": {},
     "output_type": "execute_result"
    }
   ],
   "source": [
    "test1"
   ]
  },
  {
   "cell_type": "code",
   "execution_count": 78,
   "id": "954fe05c-03d6-4278-8bcf-53fa566590fd",
   "metadata": {},
   "outputs": [],
   "source": [
    "complete.to_excel(\"completedata2.xlsx\")"
   ]
  },
  {
   "cell_type": "code",
   "execution_count": null,
   "id": "fc8ebbb1-1d19-4b09-893a-3304ab39fe36",
   "metadata": {},
   "outputs": [],
   "source": []
  },
  {
   "cell_type": "code",
   "execution_count": null,
   "id": "d8ddf8af-2d3a-4833-8731-8a90ec8d804d",
   "metadata": {},
   "outputs": [],
   "source": []
  },
  {
   "cell_type": "code",
   "execution_count": null,
   "id": "935674f8-0a9d-43af-bec8-96b814f7cfcf",
   "metadata": {},
   "outputs": [],
   "source": []
  },
  {
   "cell_type": "code",
   "execution_count": null,
   "id": "efe25e29-6e40-4cb3-8364-f956ae101ae5",
   "metadata": {},
   "outputs": [],
   "source": []
  },
  {
   "cell_type": "code",
   "execution_count": null,
   "id": "73591800-c11f-4cff-9cdd-d4a63cb89bd0",
   "metadata": {},
   "outputs": [],
   "source": []
  },
  {
   "cell_type": "markdown",
   "id": "5e1fb094-1746-422f-ab58-a2a957ff5af8",
   "metadata": {},
   "source": [
    "# Iterative Single Value Thresholding"
   ]
  },
  {
   "cell_type": "code",
   "execution_count": 169,
   "id": "7cc07d51-e6f8-4397-9051-1d733b34dfcc",
   "metadata": {
    "tags": []
   },
   "outputs": [],
   "source": [
    "numpydata = completedata.drop(columns = '_merge', axis = 1).fillna(0).to_numpy()"
   ]
  },
  {
   "cell_type": "code",
   "execution_count": 147,
   "id": "5819cdc9-c8da-4302-94e6-d829121d7743",
   "metadata": {
    "tags": []
   },
   "outputs": [
    {
     "data": {
      "text/plain": [
       "Index(['hsa.num_x_x_x', 'med.enrollee_x', 'surg.dis.per.1000', 'aaa.per.1000',\n",
       "       'back.surg.per.1000', 'coron.angio.per.1000', 'coron.art.per.1000',\n",
       "       'perc.coron.per.1000', 'carot.endar.per.1000', 'cholec.per.1000',\n",
       "       ...\n",
       "       'pctnative', '_merge', 'pctlesshs', 'pcthsonly', 'pctsomecol',\n",
       "       'pctbachplus', 'laborforce', 'employed', 'unemployed', 'ue_rate'],\n",
       "      dtype='object', length=288)"
      ]
     },
     "execution_count": 147,
     "metadata": {},
     "output_type": "execute_result"
    }
   ],
   "source": [
    "completedata.columns"
   ]
  },
  {
   "cell_type": "code",
   "execution_count": 148,
   "id": "88df3f0b-a693-4f86-b133-711698339b01",
   "metadata": {
    "tags": []
   },
   "outputs": [],
   "source": [
    "numpydata[numpydata == 'both'] = 0"
   ]
  },
  {
   "cell_type": "code",
   "execution_count": 150,
   "id": "c2ae0773-683d-4ecd-b506-edf5f83569e3",
   "metadata": {
    "tags": []
   },
   "outputs": [
    {
     "data": {
      "text/plain": [
       "(9235, 288)"
      ]
     },
     "execution_count": 150,
     "metadata": {},
     "output_type": "execute_result"
    }
   ],
   "source": [
    "numpydata.astype(float).shape"
   ]
  },
  {
   "cell_type": "code",
   "execution_count": 157,
   "id": "179d83e5-3b6b-4a95-ba6f-a4a647697fc4",
   "metadata": {
    "tags": []
   },
   "outputs": [],
   "source": [
    "lambdas = .1\n",
    "identity = np.eye(numpydata.shape[0])\n"
   ]
  },
  {
   "cell_type": "code",
   "execution_count": 181,
   "id": "94ba59ab-25ab-40cb-b389-d6515eb67726",
   "metadata": {
    "tags": []
   },
   "outputs": [
    {
     "data": {
      "text/plain": [
       "263"
      ]
     },
     "execution_count": 181,
     "metadata": {},
     "output_type": "execute_result"
    }
   ],
   "source": [
    "np.linalg.matrix_rank(numpydata)"
   ]
  },
  {
   "cell_type": "code",
   "execution_count": 166,
   "id": "1045722d-b1ad-4ea4-aee4-dc453b681dd2",
   "metadata": {
    "tags": []
   },
   "outputs": [],
   "source": [
    "U, s, VT = np.linalg.svd(numpydata, full_matrices = False)"
   ]
  },
  {
   "cell_type": "code",
   "execution_count": 170,
   "id": "6be986ba-e1a0-4537-a96a-94bfc16d9ba3",
   "metadata": {},
   "outputs": [],
   "source": [
    "def ItSingValThresh(Y, r):\n",
    "    \"\"\"\n",
    "    Iterative Singular Value Thresholding function for Matrix Completion\n",
    "    \"\"\"\n",
    "    tol = 10**(-3)  # difference between iterates at termination\n",
    "    max_its = 100;\n",
    "    n,p = Y.shape \n",
    "    X = np.array(Y) #make a copy so operations do not mutate the original\n",
    "    X[np.isnan(X)] = 0 # Fill in missing entries with zeros\n",
    "\n",
    "    err = 10**6 \n",
    "    itt = 0\n",
    "    \n",
    "    while err > tol and itt < max_its:\n",
    "        U,s,VT = np.linalg.svd(X, full_matrices=False)\n",
    "        V, S = VT.T, np.diag(s)\n",
    "        Xnew = U[:,:r] @ S[:r,:r] @ V.T[:r,:]\n",
    "        for i in range(n):\n",
    "            for j in range(p):\n",
    "                if ~np.isnan(Y[i,j]):  #replace Xnew with known entries\n",
    "                    Xnew[i,j] = Y[i,j]\n",
    "        err = np.linalg.norm(X-Xnew,'fro') \n",
    "        X = Xnew\n",
    "        itt += 1\n",
    "    return X"
   ]
  },
  {
   "cell_type": "code",
   "execution_count": 191,
   "id": "bd1fd5bd-73b4-4522-ad73-19858fb65c53",
   "metadata": {
    "tags": []
   },
   "outputs": [],
   "source": [
    "newnumpy = ItSingValThresh(numpydata, 150)"
   ]
  },
  {
   "cell_type": "code",
   "execution_count": 192,
   "id": "cee737f0-f3c0-49f1-8bc8-1755533cc835",
   "metadata": {
    "tags": []
   },
   "outputs": [],
   "source": [
    "tester = pd.DataFrame(newnumpy)"
   ]
  },
  {
   "cell_type": "code",
   "execution_count": 189,
   "id": "912a8e29-15c9-4f3b-bcfd-07a7c39b20d4",
   "metadata": {
    "tags": []
   },
   "outputs": [
    {
     "ename": "ValueError",
     "evalue": "cannot join with no overlapping index names",
     "output_type": "error",
     "traceback": [
      "\u001b[1;31m---------------------------------------------------------------------------\u001b[0m",
      "\u001b[1;31mValueError\u001b[0m                                Traceback (most recent call last)",
      "Cell \u001b[1;32mIn[189], line 1\u001b[0m\n\u001b[1;32m----> 1\u001b[0m completedata \u001b[38;5;241m-\u001b[39m tester\n",
      "File \u001b[1;32m~\\anaconda3\\Lib\\site-packages\\pandas\\core\\ops\\common.py:72\u001b[0m, in \u001b[0;36m_unpack_zerodim_and_defer.<locals>.new_method\u001b[1;34m(self, other)\u001b[0m\n\u001b[0;32m     68\u001b[0m             \u001b[38;5;28;01mreturn\u001b[39;00m \u001b[38;5;28mNotImplemented\u001b[39m\n\u001b[0;32m     70\u001b[0m other \u001b[38;5;241m=\u001b[39m item_from_zerodim(other)\n\u001b[1;32m---> 72\u001b[0m \u001b[38;5;28;01mreturn\u001b[39;00m method(\u001b[38;5;28mself\u001b[39m, other)\n",
      "File \u001b[1;32m~\\anaconda3\\Lib\\site-packages\\pandas\\core\\arraylike.py:110\u001b[0m, in \u001b[0;36mOpsMixin.__sub__\u001b[1;34m(self, other)\u001b[0m\n\u001b[0;32m    108\u001b[0m \u001b[38;5;129m@unpack_zerodim_and_defer\u001b[39m(\u001b[38;5;124m\"\u001b[39m\u001b[38;5;124m__sub__\u001b[39m\u001b[38;5;124m\"\u001b[39m)\n\u001b[0;32m    109\u001b[0m \u001b[38;5;28;01mdef\u001b[39;00m \u001b[38;5;21m__sub__\u001b[39m(\u001b[38;5;28mself\u001b[39m, other):\n\u001b[1;32m--> 110\u001b[0m     \u001b[38;5;28;01mreturn\u001b[39;00m \u001b[38;5;28mself\u001b[39m\u001b[38;5;241m.\u001b[39m_arith_method(other, operator\u001b[38;5;241m.\u001b[39msub)\n",
      "File \u001b[1;32m~\\anaconda3\\Lib\\site-packages\\pandas\\core\\frame.py:7592\u001b[0m, in \u001b[0;36mDataFrame._arith_method\u001b[1;34m(self, other, op)\u001b[0m\n\u001b[0;32m   7589\u001b[0m axis \u001b[38;5;241m=\u001b[39m \u001b[38;5;241m1\u001b[39m  \u001b[38;5;66;03m# only relevant for Series other case\u001b[39;00m\n\u001b[0;32m   7590\u001b[0m other \u001b[38;5;241m=\u001b[39m ops\u001b[38;5;241m.\u001b[39mmaybe_prepare_scalar_for_op(other, (\u001b[38;5;28mself\u001b[39m\u001b[38;5;241m.\u001b[39mshape[axis],))\n\u001b[1;32m-> 7592\u001b[0m \u001b[38;5;28mself\u001b[39m, other \u001b[38;5;241m=\u001b[39m ops\u001b[38;5;241m.\u001b[39malign_method_FRAME(\u001b[38;5;28mself\u001b[39m, other, axis, flex\u001b[38;5;241m=\u001b[39m\u001b[38;5;28;01mTrue\u001b[39;00m, level\u001b[38;5;241m=\u001b[39m\u001b[38;5;28;01mNone\u001b[39;00m)\n\u001b[0;32m   7594\u001b[0m new_data \u001b[38;5;241m=\u001b[39m \u001b[38;5;28mself\u001b[39m\u001b[38;5;241m.\u001b[39m_dispatch_frame_op(other, op, axis\u001b[38;5;241m=\u001b[39maxis)\n\u001b[0;32m   7595\u001b[0m \u001b[38;5;28;01mreturn\u001b[39;00m \u001b[38;5;28mself\u001b[39m\u001b[38;5;241m.\u001b[39m_construct_result(new_data)\n",
      "File \u001b[1;32m~\\anaconda3\\Lib\\site-packages\\pandas\\core\\ops\\__init__.py:287\u001b[0m, in \u001b[0;36malign_method_FRAME\u001b[1;34m(left, right, axis, flex, level)\u001b[0m\n\u001b[0;32m    285\u001b[0m \u001b[38;5;28;01mif\u001b[39;00m \u001b[38;5;129;01mnot\u001b[39;00m left\u001b[38;5;241m.\u001b[39m_indexed_same(right):\n\u001b[0;32m    286\u001b[0m     \u001b[38;5;28;01mif\u001b[39;00m flex:\n\u001b[1;32m--> 287\u001b[0m         left, right \u001b[38;5;241m=\u001b[39m left\u001b[38;5;241m.\u001b[39malign(right, join\u001b[38;5;241m=\u001b[39m\u001b[38;5;124m\"\u001b[39m\u001b[38;5;124mouter\u001b[39m\u001b[38;5;124m\"\u001b[39m, level\u001b[38;5;241m=\u001b[39mlevel, copy\u001b[38;5;241m=\u001b[39m\u001b[38;5;28;01mFalse\u001b[39;00m)\n\u001b[0;32m    288\u001b[0m     \u001b[38;5;28;01melse\u001b[39;00m:\n\u001b[0;32m    289\u001b[0m         \u001b[38;5;28;01mraise\u001b[39;00m \u001b[38;5;167;01mValueError\u001b[39;00m(\n\u001b[0;32m    290\u001b[0m             \u001b[38;5;124m\"\u001b[39m\u001b[38;5;124mCan only compare identically-labeled DataFrame objects\u001b[39m\u001b[38;5;124m\"\u001b[39m\n\u001b[0;32m    291\u001b[0m         )\n",
      "File \u001b[1;32m~\\anaconda3\\Lib\\site-packages\\pandas\\core\\frame.py:5090\u001b[0m, in \u001b[0;36mDataFrame.align\u001b[1;34m(self, other, join, axis, level, copy, fill_value, method, limit, fill_axis, broadcast_axis)\u001b[0m\n\u001b[0;32m   5076\u001b[0m \u001b[38;5;129m@doc\u001b[39m(NDFrame\u001b[38;5;241m.\u001b[39malign, \u001b[38;5;241m*\u001b[39m\u001b[38;5;241m*\u001b[39m_shared_doc_kwargs)\n\u001b[0;32m   5077\u001b[0m \u001b[38;5;28;01mdef\u001b[39;00m \u001b[38;5;21malign\u001b[39m(\n\u001b[0;32m   5078\u001b[0m     \u001b[38;5;28mself\u001b[39m,\n\u001b[1;32m   (...)\u001b[0m\n\u001b[0;32m   5088\u001b[0m     broadcast_axis: Axis \u001b[38;5;241m|\u001b[39m \u001b[38;5;28;01mNone\u001b[39;00m \u001b[38;5;241m=\u001b[39m \u001b[38;5;28;01mNone\u001b[39;00m,\n\u001b[0;32m   5089\u001b[0m ) \u001b[38;5;241m-\u001b[39m\u001b[38;5;241m>\u001b[39m DataFrame:\n\u001b[1;32m-> 5090\u001b[0m     \u001b[38;5;28;01mreturn\u001b[39;00m \u001b[38;5;28msuper\u001b[39m()\u001b[38;5;241m.\u001b[39malign(\n\u001b[0;32m   5091\u001b[0m         other,\n\u001b[0;32m   5092\u001b[0m         join\u001b[38;5;241m=\u001b[39mjoin,\n\u001b[0;32m   5093\u001b[0m         axis\u001b[38;5;241m=\u001b[39maxis,\n\u001b[0;32m   5094\u001b[0m         level\u001b[38;5;241m=\u001b[39mlevel,\n\u001b[0;32m   5095\u001b[0m         copy\u001b[38;5;241m=\u001b[39mcopy,\n\u001b[0;32m   5096\u001b[0m         fill_value\u001b[38;5;241m=\u001b[39mfill_value,\n\u001b[0;32m   5097\u001b[0m         method\u001b[38;5;241m=\u001b[39mmethod,\n\u001b[0;32m   5098\u001b[0m         limit\u001b[38;5;241m=\u001b[39mlimit,\n\u001b[0;32m   5099\u001b[0m         fill_axis\u001b[38;5;241m=\u001b[39mfill_axis,\n\u001b[0;32m   5100\u001b[0m         broadcast_axis\u001b[38;5;241m=\u001b[39mbroadcast_axis,\n\u001b[0;32m   5101\u001b[0m     )\n",
      "File \u001b[1;32m~\\anaconda3\\Lib\\site-packages\\pandas\\core\\generic.py:9440\u001b[0m, in \u001b[0;36mNDFrame.align\u001b[1;34m(self, other, join, axis, level, copy, fill_value, method, limit, fill_axis, broadcast_axis)\u001b[0m\n\u001b[0;32m   9438\u001b[0m     axis \u001b[38;5;241m=\u001b[39m \u001b[38;5;28mself\u001b[39m\u001b[38;5;241m.\u001b[39m_get_axis_number(axis)\n\u001b[0;32m   9439\u001b[0m \u001b[38;5;28;01mif\u001b[39;00m \u001b[38;5;28misinstance\u001b[39m(other, ABCDataFrame):\n\u001b[1;32m-> 9440\u001b[0m     \u001b[38;5;28;01mreturn\u001b[39;00m \u001b[38;5;28mself\u001b[39m\u001b[38;5;241m.\u001b[39m_align_frame(\n\u001b[0;32m   9441\u001b[0m         other,\n\u001b[0;32m   9442\u001b[0m         join\u001b[38;5;241m=\u001b[39mjoin,\n\u001b[0;32m   9443\u001b[0m         axis\u001b[38;5;241m=\u001b[39maxis,\n\u001b[0;32m   9444\u001b[0m         level\u001b[38;5;241m=\u001b[39mlevel,\n\u001b[0;32m   9445\u001b[0m         copy\u001b[38;5;241m=\u001b[39mcopy,\n\u001b[0;32m   9446\u001b[0m         fill_value\u001b[38;5;241m=\u001b[39mfill_value,\n\u001b[0;32m   9447\u001b[0m         method\u001b[38;5;241m=\u001b[39mmethod,\n\u001b[0;32m   9448\u001b[0m         limit\u001b[38;5;241m=\u001b[39mlimit,\n\u001b[0;32m   9449\u001b[0m         fill_axis\u001b[38;5;241m=\u001b[39mfill_axis,\n\u001b[0;32m   9450\u001b[0m     )\n\u001b[0;32m   9451\u001b[0m \u001b[38;5;28;01melif\u001b[39;00m \u001b[38;5;28misinstance\u001b[39m(other, ABCSeries):\n\u001b[0;32m   9452\u001b[0m     \u001b[38;5;28;01mreturn\u001b[39;00m \u001b[38;5;28mself\u001b[39m\u001b[38;5;241m.\u001b[39m_align_series(\n\u001b[0;32m   9453\u001b[0m         other,\n\u001b[0;32m   9454\u001b[0m         join\u001b[38;5;241m=\u001b[39mjoin,\n\u001b[1;32m   (...)\u001b[0m\n\u001b[0;32m   9461\u001b[0m         fill_axis\u001b[38;5;241m=\u001b[39mfill_axis,\n\u001b[0;32m   9462\u001b[0m     )\n",
      "File \u001b[1;32m~\\anaconda3\\Lib\\site-packages\\pandas\\core\\generic.py:9487\u001b[0m, in \u001b[0;36mNDFrame._align_frame\u001b[1;34m(self, other, join, axis, level, copy, fill_value, method, limit, fill_axis)\u001b[0m\n\u001b[0;32m   9484\u001b[0m is_series \u001b[38;5;241m=\u001b[39m \u001b[38;5;28misinstance\u001b[39m(\u001b[38;5;28mself\u001b[39m, ABCSeries)\n\u001b[0;32m   9486\u001b[0m \u001b[38;5;28;01mif\u001b[39;00m (axis \u001b[38;5;129;01mis\u001b[39;00m \u001b[38;5;28;01mNone\u001b[39;00m \u001b[38;5;129;01mor\u001b[39;00m axis \u001b[38;5;241m==\u001b[39m \u001b[38;5;241m0\u001b[39m) \u001b[38;5;129;01mand\u001b[39;00m \u001b[38;5;129;01mnot\u001b[39;00m \u001b[38;5;28mself\u001b[39m\u001b[38;5;241m.\u001b[39mindex\u001b[38;5;241m.\u001b[39mequals(other\u001b[38;5;241m.\u001b[39mindex):\n\u001b[1;32m-> 9487\u001b[0m     join_index, ilidx, iridx \u001b[38;5;241m=\u001b[39m \u001b[38;5;28mself\u001b[39m\u001b[38;5;241m.\u001b[39mindex\u001b[38;5;241m.\u001b[39mjoin(\n\u001b[0;32m   9488\u001b[0m         other\u001b[38;5;241m.\u001b[39mindex, how\u001b[38;5;241m=\u001b[39mjoin, level\u001b[38;5;241m=\u001b[39mlevel, return_indexers\u001b[38;5;241m=\u001b[39m\u001b[38;5;28;01mTrue\u001b[39;00m\n\u001b[0;32m   9489\u001b[0m     )\n\u001b[0;32m   9491\u001b[0m \u001b[38;5;28;01mif\u001b[39;00m (\n\u001b[0;32m   9492\u001b[0m     (axis \u001b[38;5;129;01mis\u001b[39;00m \u001b[38;5;28;01mNone\u001b[39;00m \u001b[38;5;129;01mor\u001b[39;00m axis \u001b[38;5;241m==\u001b[39m \u001b[38;5;241m1\u001b[39m)\n\u001b[0;32m   9493\u001b[0m     \u001b[38;5;129;01mand\u001b[39;00m \u001b[38;5;129;01mnot\u001b[39;00m is_series\n\u001b[0;32m   9494\u001b[0m     \u001b[38;5;129;01mand\u001b[39;00m \u001b[38;5;129;01mnot\u001b[39;00m \u001b[38;5;28mself\u001b[39m\u001b[38;5;241m.\u001b[39mcolumns\u001b[38;5;241m.\u001b[39mequals(other\u001b[38;5;241m.\u001b[39mcolumns)\n\u001b[0;32m   9495\u001b[0m ):\n\u001b[0;32m   9496\u001b[0m     join_columns, clidx, cridx \u001b[38;5;241m=\u001b[39m \u001b[38;5;28mself\u001b[39m\u001b[38;5;241m.\u001b[39mcolumns\u001b[38;5;241m.\u001b[39mjoin(\n\u001b[0;32m   9497\u001b[0m         other\u001b[38;5;241m.\u001b[39mcolumns, how\u001b[38;5;241m=\u001b[39mjoin, level\u001b[38;5;241m=\u001b[39mlevel, return_indexers\u001b[38;5;241m=\u001b[39m\u001b[38;5;28;01mTrue\u001b[39;00m\n\u001b[0;32m   9498\u001b[0m     )\n",
      "File \u001b[1;32m~\\anaconda3\\Lib\\site-packages\\pandas\\util\\_decorators.py:331\u001b[0m, in \u001b[0;36mdeprecate_nonkeyword_arguments.<locals>.decorate.<locals>.wrapper\u001b[1;34m(*args, **kwargs)\u001b[0m\n\u001b[0;32m    325\u001b[0m \u001b[38;5;28;01mif\u001b[39;00m \u001b[38;5;28mlen\u001b[39m(args) \u001b[38;5;241m>\u001b[39m num_allow_args:\n\u001b[0;32m    326\u001b[0m     warnings\u001b[38;5;241m.\u001b[39mwarn(\n\u001b[0;32m    327\u001b[0m         msg\u001b[38;5;241m.\u001b[39mformat(arguments\u001b[38;5;241m=\u001b[39m_format_argument_list(allow_args)),\n\u001b[0;32m    328\u001b[0m         \u001b[38;5;167;01mFutureWarning\u001b[39;00m,\n\u001b[0;32m    329\u001b[0m         stacklevel\u001b[38;5;241m=\u001b[39mfind_stack_level(),\n\u001b[0;32m    330\u001b[0m     )\n\u001b[1;32m--> 331\u001b[0m \u001b[38;5;28;01mreturn\u001b[39;00m func(\u001b[38;5;241m*\u001b[39margs, \u001b[38;5;241m*\u001b[39m\u001b[38;5;241m*\u001b[39mkwargs)\n",
      "File \u001b[1;32m~\\anaconda3\\Lib\\site-packages\\pandas\\core\\indexes\\base.py:228\u001b[0m, in \u001b[0;36m_maybe_return_indexers.<locals>.join\u001b[1;34m(self, other, how, level, return_indexers, sort)\u001b[0m\n\u001b[0;32m    219\u001b[0m \u001b[38;5;129m@functools\u001b[39m\u001b[38;5;241m.\u001b[39mwraps(meth)\n\u001b[0;32m    220\u001b[0m \u001b[38;5;28;01mdef\u001b[39;00m \u001b[38;5;21mjoin\u001b[39m(\n\u001b[0;32m    221\u001b[0m     \u001b[38;5;28mself\u001b[39m,\n\u001b[1;32m   (...)\u001b[0m\n\u001b[0;32m    226\u001b[0m     sort: \u001b[38;5;28mbool\u001b[39m \u001b[38;5;241m=\u001b[39m \u001b[38;5;28;01mFalse\u001b[39;00m,\n\u001b[0;32m    227\u001b[0m ):\n\u001b[1;32m--> 228\u001b[0m     join_index, lidx, ridx \u001b[38;5;241m=\u001b[39m meth(\u001b[38;5;28mself\u001b[39m, other, how\u001b[38;5;241m=\u001b[39mhow, level\u001b[38;5;241m=\u001b[39mlevel, sort\u001b[38;5;241m=\u001b[39msort)\n\u001b[0;32m    229\u001b[0m     \u001b[38;5;28;01mif\u001b[39;00m \u001b[38;5;129;01mnot\u001b[39;00m return_indexers:\n\u001b[0;32m    230\u001b[0m         \u001b[38;5;28;01mreturn\u001b[39;00m join_index\n",
      "File \u001b[1;32m~\\anaconda3\\Lib\\site-packages\\pandas\\core\\indexes\\base.py:4615\u001b[0m, in \u001b[0;36mIndex.join\u001b[1;34m(self, other, how, level, return_indexers, sort)\u001b[0m\n\u001b[0;32m   4613\u001b[0m         \u001b[38;5;28;01mpass\u001b[39;00m\n\u001b[0;32m   4614\u001b[0m     \u001b[38;5;28;01melse\u001b[39;00m:\n\u001b[1;32m-> 4615\u001b[0m         \u001b[38;5;28;01mreturn\u001b[39;00m \u001b[38;5;28mself\u001b[39m\u001b[38;5;241m.\u001b[39m_join_multi(other, how\u001b[38;5;241m=\u001b[39mhow)\n\u001b[0;32m   4617\u001b[0m \u001b[38;5;66;03m# join on the level\u001b[39;00m\n\u001b[0;32m   4618\u001b[0m \u001b[38;5;28;01mif\u001b[39;00m level \u001b[38;5;129;01mis\u001b[39;00m \u001b[38;5;129;01mnot\u001b[39;00m \u001b[38;5;28;01mNone\u001b[39;00m \u001b[38;5;129;01mand\u001b[39;00m (\u001b[38;5;28mself\u001b[39m\u001b[38;5;241m.\u001b[39m_is_multi \u001b[38;5;129;01mor\u001b[39;00m other\u001b[38;5;241m.\u001b[39m_is_multi):\n",
      "File \u001b[1;32m~\\anaconda3\\Lib\\site-packages\\pandas\\core\\indexes\\base.py:4739\u001b[0m, in \u001b[0;36mIndex._join_multi\u001b[1;34m(self, other, how)\u001b[0m\n\u001b[0;32m   4737\u001b[0m \u001b[38;5;66;03m# need at least 1 in common\u001b[39;00m\n\u001b[0;32m   4738\u001b[0m \u001b[38;5;28;01mif\u001b[39;00m \u001b[38;5;129;01mnot\u001b[39;00m overlap:\n\u001b[1;32m-> 4739\u001b[0m     \u001b[38;5;28;01mraise\u001b[39;00m \u001b[38;5;167;01mValueError\u001b[39;00m(\u001b[38;5;124m\"\u001b[39m\u001b[38;5;124mcannot join with no overlapping index names\u001b[39m\u001b[38;5;124m\"\u001b[39m)\n\u001b[0;32m   4741\u001b[0m \u001b[38;5;28;01mif\u001b[39;00m \u001b[38;5;28misinstance\u001b[39m(\u001b[38;5;28mself\u001b[39m, MultiIndex) \u001b[38;5;129;01mand\u001b[39;00m \u001b[38;5;28misinstance\u001b[39m(other, MultiIndex):\n\u001b[0;32m   4742\u001b[0m \n\u001b[0;32m   4743\u001b[0m     \u001b[38;5;66;03m# Drop the non-matching levels from left and right respectively\u001b[39;00m\n\u001b[0;32m   4744\u001b[0m     ldrop_names \u001b[38;5;241m=\u001b[39m \u001b[38;5;28msorted\u001b[39m(self_names \u001b[38;5;241m-\u001b[39m overlap, key\u001b[38;5;241m=\u001b[39mself_names_order)\n",
      "\u001b[1;31mValueError\u001b[0m: cannot join with no overlapping index names"
     ]
    }
   ],
   "source": [
    "completedata - tester"
   ]
  },
  {
   "cell_type": "markdown",
   "id": "ac77d193-9f2b-4248-9636-990457e8e47c",
   "metadata": {},
   "source": [
    "# Everything below here is a testing area"
   ]
  },
  {
   "cell_type": "markdown",
   "id": "4afe7cd3-a08b-47f2-8613-b3a333b78d3c",
   "metadata": {
    "tags": []
   },
   "source": [
    "### This next merge is the pivot point: \n",
    "\n",
    "### Below this finds finaldata1: This data uses an incomplete set for the Chronic Care data\n",
    "\n",
    "    1 If we merge right onto \"Chronic Care\" we reduce down to a size of 2004 HSA's\n",
    "        2 Note: Chronic Care has our IV variable\n",
    "    3 If we merge left onto \"Post Discharge\" we maintain 3087 unique HSA's"
   ]
  },
  {
   "cell_type": "code",
   "execution_count": 34,
   "id": "fa4ac95c-173e-48d6-8b63-9da28e861216",
   "metadata": {
    "tags": []
   },
   "outputs": [],
   "source": [
    "merge4 = pd.merge(postdischarge2, chronic_care2, on = ['hsa.num', 'year'], how = 'left')"
   ]
  },
  {
   "cell_type": "code",
   "execution_count": 35,
   "id": "4cd83088-cf9f-4de4-b4ed-6046e843cf4e",
   "metadata": {
    "tags": []
   },
   "outputs": [],
   "source": [
    "merge5 = pd.merge(merge1, merge2, on = ['hsa.num', 'year'], how = 'left')"
   ]
  },
  {
   "cell_type": "code",
   "execution_count": 36,
   "id": "09bdb322-ad67-4b54-ad68-983162d88935",
   "metadata": {
    "tags": []
   },
   "outputs": [
    {
     "data": {
      "text/plain": [
       "3437"
      ]
     },
     "execution_count": 36,
     "metadata": {},
     "output_type": "execute_result"
    }
   ],
   "source": [
    "len(set(merge5['hsa.num']))"
   ]
  },
  {
   "cell_type": "code",
   "execution_count": 37,
   "id": "94dc6661-4a2c-4cf0-aa42-ed9b5f3de758",
   "metadata": {
    "tags": []
   },
   "outputs": [],
   "source": [
    "merge6 = pd.merge(merge3, merge4, on = ['hsa.num', 'year'], how = 'right')"
   ]
  },
  {
   "cell_type": "code",
   "execution_count": 38,
   "id": "513c7b23-593d-4e41-bdf0-b81a3057c567",
   "metadata": {
    "tags": []
   },
   "outputs": [
    {
     "data": {
      "text/plain": [
       "3087"
      ]
     },
     "execution_count": 38,
     "metadata": {},
     "output_type": "execute_result"
    }
   ],
   "source": [
    "len(set(merge6['hsa.num']))"
   ]
  },
  {
   "cell_type": "code",
   "execution_count": 39,
   "id": "d76eb2be-19e4-48a7-a565-a9792f5fd2cb",
   "metadata": {
    "tags": []
   },
   "outputs": [],
   "source": [
    "finaldata_all = pd.merge(merge6, merge5, on = ['hsa.num', 'year'], how = 'left')"
   ]
  },
  {
   "cell_type": "markdown",
   "id": "d7e64d9c-d7e4-4144-b07d-f878f48ed5b8",
   "metadata": {},
   "source": [
    "### This merge branch merges down to the size of Chronic Care (2004 HSA's) and reduces dataset size signficantly"
   ]
  },
  {
   "cell_type": "code",
   "execution_count": 40,
   "id": "b6f2fd2f-392f-4a2c-a9a2-d09cc3623d8b",
   "metadata": {
    "tags": []
   },
   "outputs": [],
   "source": [
    "merge4 = pd.merge(postdischarge2, chronic_care2, on = ['hsa.num', 'year'], how = 'right')"
   ]
  },
  {
   "cell_type": "code",
   "execution_count": 41,
   "id": "9a2c61ce-18a5-4c91-9c39-3382b36242ab",
   "metadata": {
    "tags": []
   },
   "outputs": [],
   "source": [
    "merge5 = pd.merge(merge1, merge2, on = ['hsa.num', 'year'], how = 'left')"
   ]
  },
  {
   "cell_type": "code",
   "execution_count": 42,
   "id": "c4624e8e-744b-4ded-98e1-3ab394aefdab",
   "metadata": {
    "tags": []
   },
   "outputs": [
    {
     "data": {
      "text/plain": [
       "3437"
      ]
     },
     "execution_count": 42,
     "metadata": {},
     "output_type": "execute_result"
    }
   ],
   "source": [
    "len(set(merge5['hsa.num']))"
   ]
  },
  {
   "cell_type": "code",
   "execution_count": 43,
   "id": "86c9ecc7-b5dc-4cc0-b0c6-c5b76d98f2b4",
   "metadata": {
    "tags": []
   },
   "outputs": [],
   "source": [
    "merge6 = pd.merge(merge3, merge4, on = ['hsa.num', 'year'], how = 'right')"
   ]
  },
  {
   "cell_type": "code",
   "execution_count": 44,
   "id": "44218820-cfc4-4950-9bcd-db58f365eac3",
   "metadata": {
    "tags": []
   },
   "outputs": [
    {
     "data": {
      "text/plain": [
       "2004"
      ]
     },
     "execution_count": 44,
     "metadata": {},
     "output_type": "execute_result"
    }
   ],
   "source": [
    "len(set(merge6['hsa.num']))"
   ]
  },
  {
   "cell_type": "code",
   "execution_count": 45,
   "id": "bb480a22-d27c-4460-8984-27a9ea66777f",
   "metadata": {
    "tags": []
   },
   "outputs": [],
   "source": [
    "finaldata_cc = pd.merge(merge6, merge5, on = ['hsa.num', 'year'], how = 'left')"
   ]
  },
  {
   "cell_type": "code",
   "execution_count": 46,
   "id": "a4be8f42-87d7-4628-b31f-35252282e898",
   "metadata": {
    "tags": []
   },
   "outputs": [
    {
     "data": {
      "text/plain": [
       "2004"
      ]
     },
     "execution_count": 46,
     "metadata": {},
     "output_type": "execute_result"
    }
   ],
   "source": [
    "len(set(finaldata_cc['hsa.num']))"
   ]
  },
  {
   "cell_type": "code",
   "execution_count": null,
   "id": "84e14db2-e6da-4e4b-a854-1958a3bb0a54",
   "metadata": {},
   "outputs": [],
   "source": []
  },
  {
   "cell_type": "code",
   "execution_count": null,
   "id": "c1db525f-b5c2-4c90-8c8e-b5ce38063f36",
   "metadata": {},
   "outputs": [],
   "source": []
  },
  {
   "cell_type": "code",
   "execution_count": null,
   "id": "d0b28940-ecfb-4e8d-9981-d306e60fee4d",
   "metadata": {},
   "outputs": [],
   "source": []
  },
  {
   "cell_type": "markdown",
   "id": "05978a67-2627-4140-8ef2-646a645e80f1",
   "metadata": {},
   "source": [
    "# Save the main files as excel files"
   ]
  },
  {
   "cell_type": "code",
   "execution_count": 50,
   "id": "366423d4-089a-4ae3-8fa8-8cdd2e1c9b8c",
   "metadata": {
    "tags": []
   },
   "outputs": [],
   "source": [
    "finaldata_cc.to_excel('finaldata_cc.xlsx')"
   ]
  },
  {
   "cell_type": "code",
   "execution_count": 51,
   "id": "e50b694e-6cc9-452d-a728-f5ff4eb75435",
   "metadata": {
    "tags": []
   },
   "outputs": [],
   "source": [
    "finaldata_all.to_excel('finaldata_all.xlsx')"
   ]
  },
  {
   "cell_type": "markdown",
   "id": "5a09b7cd-291c-4fad-8ab3-a606af8ea282",
   "metadata": {},
   "source": [
    "### Load in the main files, replace na's if necessary"
   ]
  },
  {
   "cell_type": "code",
   "execution_count": 221,
   "id": "d5e5997d-1923-4484-aa8c-0a4059058603",
   "metadata": {
    "tags": []
   },
   "outputs": [],
   "source": [
    "finaldata_cc = pd.read_excel('finaldata_cc.xlsx')"
   ]
  },
  {
   "cell_type": "code",
   "execution_count": null,
   "id": "b41abee7-6177-41b2-a45c-b17a3858a0f2",
   "metadata": {},
   "outputs": [],
   "source": [
    "finaldata_all = pd.read_excel('finaldata_all.xlsx')"
   ]
  },
  {
   "cell_type": "code",
   "execution_count": 48,
   "id": "303b852d-d269-4b89-99d4-93f90aec9c12",
   "metadata": {
    "tags": []
   },
   "outputs": [],
   "source": [
    "# Creates a data dictionary for state to abbreviation\n",
    "\n",
    "us_state_to_abbrev = {\n",
    "    \"Alabama\": \"AL\",\n",
    "    \"Alaska\": \"AK\",\n",
    "    \"Arizona\": \"AZ\",\n",
    "    \"Arkansas\": \"AR\",\n",
    "    \"California\": \"CA\",\n",
    "    \"Colorado\": \"CO\",\n",
    "    \"Connecticut\": \"CT\",\n",
    "    \"Delaware\": \"DE\",\n",
    "    \"Florida\": \"FL\",\n",
    "    \"Georgia\": \"GA\",\n",
    "    \"Hawaii\": \"HI\",\n",
    "    \"Idaho\": \"ID\",\n",
    "    \"Illinois\": \"IL\",\n",
    "    \"Indiana\": \"IN\",\n",
    "    \"Iowa\": \"IA\",\n",
    "    \"Kansas\": \"KS\",\n",
    "    \"Kentucky\": \"KY\",\n",
    "    \"Louisiana\": \"LA\",\n",
    "    \"Maine\": \"ME\",\n",
    "    \"Maryland\": \"MD\",\n",
    "    \"Massachusetts\": \"MA\",\n",
    "    \"Michigan\": \"MI\",\n",
    "    \"Minnesota\": \"MN\",\n",
    "    \"Mississippi\": \"MS\",\n",
    "    \"Missouri\": \"MO\",\n",
    "    \"Montana\": \"MT\",\n",
    "    \"Nebraska\": \"NE\",\n",
    "    \"Nevada\": \"NV\",\n",
    "    \"New Hampshire\": \"NH\",\n",
    "    \"New Jersey\": \"NJ\",\n",
    "    \"New Mexico\": \"NM\",\n",
    "    \"New York\": \"NY\",\n",
    "    \"North Carolina\": \"NC\",\n",
    "    \"North Dakota\": \"ND\",\n",
    "    \"Ohio\": \"OH\",\n",
    "    \"Oklahoma\": \"OK\",\n",
    "    \"Oregon\": \"OR\",\n",
    "    \"Pennsylvania\": \"PA\",\n",
    "    \"Rhode Island\": \"RI\",\n",
    "    \"South Carolina\": \"SC\",\n",
    "    \"South Dakota\": \"SD\",\n",
    "    \"Tennessee\": \"TN\",\n",
    "    \"Texas\": \"TX\",\n",
    "    \"Utah\": \"UT\",\n",
    "    \"Vermont\": \"VT\",\n",
    "    \"Virginia\": \"VA\",\n",
    "    \"Washington\": \"WA\",\n",
    "    \"West Virginia\": \"WV\",\n",
    "    \"Wisconsin\": \"WI\",\n",
    "    \"Wyoming\": \"WY\",\n",
    "    \"District of Columbia\": \"DC\",\n",
    "    \"American Samoa\": \"AS\",\n",
    "    \"Guam\": \"GU\",\n",
    "    \"Northern Mariana Islands\": \"MP\",\n",
    "    \"Puerto Rico\": \"PR\",\n",
    "    \"United States Minor Outlying Islands\": \"UM\",\n",
    "    \"U.S. Virgin Islands\": \"VI\",\n",
    "}\n",
    "    \n",
    "# invert the dictionary\n",
    "abbrev_to_us_state = dict(map(reversed, us_state_to_abbrev.items()))"
   ]
  },
  {
   "cell_type": "code",
   "execution_count": 49,
   "id": "ea47c67f-5f37-42d5-a366-4af28e6dc2f1",
   "metadata": {
    "tags": []
   },
   "outputs": [],
   "source": [
    "for i, state in enumerate(finaldata_cc['state_y']):\n",
    "    finaldata_cc.loc[i, 'state_y'] = abbrev_to_us_state[state].title().strip()\n"
   ]
  },
  {
   "cell_type": "code",
   "execution_count": 50,
   "id": "4549eb11-4e82-42e7-b737-ebb69994ea1d",
   "metadata": {
    "tags": []
   },
   "outputs": [],
   "source": [
    "for i, state in enumerate(finaldata_all['state_y']):\n",
    "    finaldata_all.loc[i, 'state_y'] = abbrev_to_us_state[state].title().strip()"
   ]
  },
  {
   "cell_type": "code",
   "execution_count": 51,
   "id": "6a2ead58-3a6b-483f-ae72-3a65adbafa98",
   "metadata": {
    "collapsed": true,
    "jupyter": {
     "outputs_hidden": true
    },
    "tags": []
   },
   "outputs": [
    {
     "data": {
      "text/html": [
       "<div>\n",
       "<style scoped>\n",
       "    .dataframe tbody tr th:only-of-type {\n",
       "        vertical-align: middle;\n",
       "    }\n",
       "\n",
       "    .dataframe tbody tr th {\n",
       "        vertical-align: top;\n",
       "    }\n",
       "\n",
       "    .dataframe thead th {\n",
       "        text-align: right;\n",
       "    }\n",
       "</style>\n",
       "<table border=\"1\" class=\"dataframe\">\n",
       "  <thead>\n",
       "    <tr style=\"text-align: right;\">\n",
       "      <th></th>\n",
       "      <th>state_x</th>\n",
       "      <th>state_y</th>\n",
       "      <th>state_x_x</th>\n",
       "      <th>state_y_x</th>\n",
       "      <th>state_x_y</th>\n",
       "      <th>state_y_y</th>\n",
       "    </tr>\n",
       "  </thead>\n",
       "  <tbody>\n",
       "    <tr>\n",
       "      <th>0</th>\n",
       "      <td>AL</td>\n",
       "      <td>Alabama</td>\n",
       "      <td>AL</td>\n",
       "      <td>AL</td>\n",
       "      <td>AL</td>\n",
       "      <td>AL</td>\n",
       "    </tr>\n",
       "    <tr>\n",
       "      <th>1</th>\n",
       "      <td>AL</td>\n",
       "      <td>Alabama</td>\n",
       "      <td>AL</td>\n",
       "      <td>AL</td>\n",
       "      <td>AL</td>\n",
       "      <td>AL</td>\n",
       "    </tr>\n",
       "    <tr>\n",
       "      <th>2</th>\n",
       "      <td>AL</td>\n",
       "      <td>Alabama</td>\n",
       "      <td>AL</td>\n",
       "      <td>AL</td>\n",
       "      <td>AL</td>\n",
       "      <td>AL</td>\n",
       "    </tr>\n",
       "    <tr>\n",
       "      <th>3</th>\n",
       "      <td>AL</td>\n",
       "      <td>Alabama</td>\n",
       "      <td>AL</td>\n",
       "      <td>AL</td>\n",
       "      <td>AL</td>\n",
       "      <td>AL</td>\n",
       "    </tr>\n",
       "    <tr>\n",
       "      <th>4</th>\n",
       "      <td>AL</td>\n",
       "      <td>Alabama</td>\n",
       "      <td>AL</td>\n",
       "      <td>AL</td>\n",
       "      <td>AL</td>\n",
       "      <td>AL</td>\n",
       "    </tr>\n",
       "    <tr>\n",
       "      <th>...</th>\n",
       "      <td>...</td>\n",
       "      <td>...</td>\n",
       "      <td>...</td>\n",
       "      <td>...</td>\n",
       "      <td>...</td>\n",
       "      <td>...</td>\n",
       "    </tr>\n",
       "    <tr>\n",
       "      <th>13802</th>\n",
       "      <td>WY</td>\n",
       "      <td>Wyoming</td>\n",
       "      <td>WY</td>\n",
       "      <td>WY</td>\n",
       "      <td>WY</td>\n",
       "      <td>WY</td>\n",
       "    </tr>\n",
       "    <tr>\n",
       "      <th>13803</th>\n",
       "      <td>WY</td>\n",
       "      <td>Wyoming</td>\n",
       "      <td>WY</td>\n",
       "      <td>WY</td>\n",
       "      <td>WY</td>\n",
       "      <td>WY</td>\n",
       "    </tr>\n",
       "    <tr>\n",
       "      <th>13804</th>\n",
       "      <td>WY</td>\n",
       "      <td>Wyoming</td>\n",
       "      <td>WY</td>\n",
       "      <td>WY</td>\n",
       "      <td>WY</td>\n",
       "      <td>WY</td>\n",
       "    </tr>\n",
       "    <tr>\n",
       "      <th>13805</th>\n",
       "      <td>WY</td>\n",
       "      <td>Wyoming</td>\n",
       "      <td>WY</td>\n",
       "      <td>WY</td>\n",
       "      <td>WY</td>\n",
       "      <td>WY</td>\n",
       "    </tr>\n",
       "    <tr>\n",
       "      <th>13806</th>\n",
       "      <td>WY</td>\n",
       "      <td>Wyoming</td>\n",
       "      <td>WY</td>\n",
       "      <td>WY</td>\n",
       "      <td>WY</td>\n",
       "      <td>WY</td>\n",
       "    </tr>\n",
       "  </tbody>\n",
       "</table>\n",
       "<p>13807 rows × 6 columns</p>\n",
       "</div>"
      ],
      "text/plain": [
       "      state_x  state_y state_x_x state_y_x state_x_y state_y_y\n",
       "0          AL  Alabama        AL        AL        AL        AL\n",
       "1          AL  Alabama        AL        AL        AL        AL\n",
       "2          AL  Alabama        AL        AL        AL        AL\n",
       "3          AL  Alabama        AL        AL        AL        AL\n",
       "4          AL  Alabama        AL        AL        AL        AL\n",
       "...       ...      ...       ...       ...       ...       ...\n",
       "13802      WY  Wyoming        WY        WY        WY        WY\n",
       "13803      WY  Wyoming        WY        WY        WY        WY\n",
       "13804      WY  Wyoming        WY        WY        WY        WY\n",
       "13805      WY  Wyoming        WY        WY        WY        WY\n",
       "13806      WY  Wyoming        WY        WY        WY        WY\n",
       "\n",
       "[13807 rows x 6 columns]"
      ]
     },
     "execution_count": 51,
     "metadata": {},
     "output_type": "execute_result"
    }
   ],
   "source": [
    "finaldata_cc.loc[:,finaldata_cc.columns.str.contains('state')]"
   ]
  },
  {
   "cell_type": "markdown",
   "id": "f394b203-75a5-4932-9d41-6f878933ebcb",
   "metadata": {},
   "source": [
    "### Load two versions of the data using the census data"
   ]
  },
  {
   "cell_type": "code",
   "execution_count": 52,
   "id": "8b9d5172-7282-41d0-9e06-4bda0347f790",
   "metadata": {
    "tags": []
   },
   "outputs": [],
   "source": [
    "census = pd.read_csv('merged_group.csv')"
   ]
  },
  {
   "cell_type": "code",
   "execution_count": 53,
   "id": "b806848d-172d-4404-8e78-aec2e79e9e45",
   "metadata": {
    "tags": []
   },
   "outputs": [],
   "source": [
    "census = census.set_index(['hsa.num', 'year'])"
   ]
  },
  {
   "cell_type": "code",
   "execution_count": 59,
   "id": "7626aa2e-a0a7-4710-9601-a6ea39272e74",
   "metadata": {},
   "outputs": [
    {
     "data": {
      "text/plain": [
       "1660"
      ]
     },
     "execution_count": 59,
     "metadata": {},
     "output_type": "execute_result"
    }
   ],
   "source": [
    "len(set(finaldata_cc['county']))"
   ]
  },
  {
   "cell_type": "code",
   "execution_count": null,
   "id": "17ee14fd-ab18-4791-bf53-8184885c53d2",
   "metadata": {
    "tags": []
   },
   "outputs": [],
   "source": [
    "len(set(census['county']))"
   ]
  },
  {
   "cell_type": "code",
   "execution_count": 54,
   "id": "d9a47f93-5671-416d-9a98-3ab5eba50edf",
   "metadata": {
    "tags": []
   },
   "outputs": [
    {
     "data": {
      "text/plain": [
       "1603"
      ]
     },
     "execution_count": 54,
     "metadata": {},
     "output_type": "execute_result"
    }
   ],
   "source": [
    "len(set(finaldata_cc['county']) - set(census['county']))"
   ]
  },
  {
   "cell_type": "code",
   "execution_count": 61,
   "id": "452d79f7-1f23-43aa-999a-872ec877697d",
   "metadata": {
    "tags": []
   },
   "outputs": [
    {
     "data": {
      "text/plain": [
       "118"
      ]
     },
     "execution_count": 61,
     "metadata": {},
     "output_type": "execute_result"
    }
   ],
   "source": []
  },
  {
   "cell_type": "code",
   "execution_count": 261,
   "id": "f6174e9f-3f9c-4a81-b6fb-0bd106c5d340",
   "metadata": {
    "tags": []
   },
   "outputs": [
    {
     "data": {
      "text/plain": [
       "(17195, 213)"
      ]
     },
     "execution_count": 261,
     "metadata": {},
     "output_type": "execute_result"
    }
   ],
   "source": [
    "finaldata_all_year = finaldata_all.loc[(finaldata_all['year'] > 2009) & (finaldata_all['year'] < 2016)]\n",
    "finaldata_all_year.shape"
   ]
  },
  {
   "cell_type": "code",
   "execution_count": 263,
   "id": "a06d3abf-b3ed-4db1-93c4-cb4721be5593",
   "metadata": {
    "tags": []
   },
   "outputs": [
    {
     "data": {
      "text/plain": [
       "(10052, 214)"
      ]
     },
     "execution_count": 263,
     "metadata": {},
     "output_type": "execute_result"
    }
   ],
   "source": [
    "finaldata_cc_year = finaldata_cc.loc[(finaldata_cc['year'] > 2009) & (finaldata_cc['year'] < 2016)]\n",
    "finaldata_cc_year.shape"
   ]
  },
  {
   "cell_type": "code",
   "execution_count": 278,
   "id": "16201f5e-6dcc-43fd-be1d-c71eab699415",
   "metadata": {
    "tags": []
   },
   "outputs": [],
   "source": [
    "finaldata_all_year.set_index(['hsa.num', 'year'], inplace = True)\n",
    "finaldata_cc_year.set_index(['hsa.num', 'year'], inplace = True)"
   ]
  },
  {
   "cell_type": "code",
   "execution_count": 232,
   "id": "4fdbe756-29de-4914-b859-63975a9bb3ee",
   "metadata": {
    "tags": []
   },
   "outputs": [],
   "source": [
    "census.drop('_merge', inplace = True)"
   ]
  },
  {
   "cell_type": "code",
   "execution_count": 299,
   "id": "ca3ea7d8-e2c1-4a47-9af1-fa916cfdfdec",
   "metadata": {
    "tags": []
   },
   "outputs": [],
   "source": [
    "mergeddata = pd.merge(census, finaldata_all_year, left_index = True, right_index = True, how = 'inner').reset_index()"
   ]
  },
  {
   "cell_type": "code",
   "execution_count": 300,
   "id": "3ba98b08-5abf-4a4d-9008-09450dd2daf0",
   "metadata": {
    "tags": []
   },
   "outputs": [],
   "source": [
    "mergeddata.drop('Unnamed: 0', inplace = True, axis = 1)"
   ]
  },
  {
   "cell_type": "code",
   "execution_count": 303,
   "id": "830ec86d-196e-4552-9c21-75c0e5fbe9a0",
   "metadata": {
    "tags": []
   },
   "outputs": [],
   "source": []
  },
  {
   "cell_type": "code",
   "execution_count": 327,
   "id": "dfcf9a5f-3ce6-4c7a-a5aa-10738681f2e0",
   "metadata": {
    "tags": []
   },
   "outputs": [],
   "source": [
    "hsa_keeps = []\n",
    "for hsa in set(mergeddata['hsa.num']):\n",
    "    if mergeddata.set_index(['hsa.num', 'year']).xs(hsa, level = 'hsa.num').shape[0] == 6:\n",
    "        hsa_keeps.append(hsa)"
   ]
  },
  {
   "cell_type": "code",
   "execution_count": 342,
   "id": "9b165c53-3eca-4c61-95d5-e16e5f2efae3",
   "metadata": {
    "tags": []
   },
   "outputs": [],
   "source": [
    "mergeddata = mergeddata.set_index(['hsa.num']).loc[hsa_keeps]"
   ]
  },
  {
   "cell_type": "code",
   "execution_count": 346,
   "id": "ffa094d6-c627-4eb9-b824-127043578c3f",
   "metadata": {
    "tags": []
   },
   "outputs": [
    {
     "name": "stderr",
     "output_type": "stream",
     "text": [
      "C:\\Users\\jbpul\\AppData\\Local\\Temp\\ipykernel_12828\\1628020083.py:1: PerformanceWarning: DataFrame is highly fragmented.  This is usually the result of calling `frame.insert` many times, which has poor performance.  Consider joining all columns at once using pd.concat(axis=1) instead. To get a de-fragmented frame, use `newframe = frame.copy()`\n",
      "  mergeddata.reset_index(inplace = True)\n"
     ]
    }
   ],
   "source": [
    "mergeddata.reset_index(inplace = True)"
   ]
  },
  {
   "cell_type": "code",
   "execution_count": 348,
   "id": "ba854b65-2d88-4fdf-b5dc-72a563f8e301",
   "metadata": {
    "tags": []
   },
   "outputs": [],
   "source": [
    "mergeddata.to_excel('complete_all3.xlsx', index = False)"
   ]
  },
  {
   "cell_type": "code",
   "execution_count": null,
   "id": "20b1f08b-fc47-416c-a443-76b58eff6da2",
   "metadata": {},
   "outputs": [],
   "source": []
  },
  {
   "cell_type": "code",
   "execution_count": 75,
   "id": "654b0b14-800e-400e-b973-0c3e5de2b242",
   "metadata": {
    "tags": []
   },
   "outputs": [],
   "source": [
    "tester_cc = pd.merge(census, finaldata_cc_year, left_index = True, right_index = True, how = 'inner', indicator = True)"
   ]
  },
  {
   "cell_type": "code",
   "execution_count": 204,
   "id": "05ab669b-0995-4955-ba18-c5f8722a6381",
   "metadata": {
    "tags": []
   },
   "outputs": [],
   "source": [
    "tester_cc.reset_index().to_excel('complete_all.xlsx', index = False)"
   ]
  },
  {
   "cell_type": "markdown",
   "id": "2e6ee6cc-4f56-442b-9252-32bbb9b8a0b4",
   "metadata": {
    "tags": []
   },
   "source": [
    "## Testing zone: Data below here is for testing purposes only"
   ]
  },
  {
   "cell_type": "code",
   "execution_count": 57,
   "id": "fa59bced-efb6-411e-aa5a-63852d12fd77",
   "metadata": {},
   "outputs": [],
   "source": [
    "# This looks for how much data is missing \n",
    "dropcols = []\n",
    "for names in finaldata_all.describe().columns:\n",
    "    if finaldata_all[names].count()/finaldata_all['hsa.num'].count() < .60:\n",
    "        dropcols.append(names)\n",
    "    "
   ]
  },
  {
   "cell_type": "code",
   "execution_count": 142,
   "id": "83ed1268-924b-42fe-aa70-a3e5718474f1",
   "metadata": {
    "tags": []
   },
   "outputs": [],
   "source": [
    "tester_cc.reset_index(inplace = True)\n",
    "\n",
    "### This changes year to a list, and then to a date time\n",
    "\n",
    "tester_cc['year'] = pd.to_datetime([str(year) for year in tester_cc['year'].tolist()])\n",
    "tester_cc.set_index(['hsa.num', 'year'], inplace = True)"
   ]
  },
  {
   "cell_type": "code",
   "execution_count": 163,
   "id": "3df00718-44c8-448a-93d7-34430a635cce",
   "metadata": {
    "tags": []
   },
   "outputs": [
    {
     "data": {
      "text/plain": [
       "total.population            2.389085e+06\n",
       "age.male                    4.880489e+01\n",
       "age.female                  5.119511e+01\n",
       "med.age                     3.807974e+01\n",
       "pct.one.race                9.700694e+01\n",
       "pct.white                   6.681033e+01\n",
       "pct.black                   1.441402e+01\n",
       "pct.native.ind              3.594386e-01\n",
       "pct.asian                   7.954816e+00\n",
       "pct.island                  1.568421e-01\n",
       "pct.other.race              7.305596e+00\n",
       "pct.two+.race               2.993061e+00\n",
       "pct.hisp.origin             2.385184e+01\n",
       "pct.white.alone             5.169501e+01\n",
       "pop.in.house                2.347688e+06\n",
       "householder.or.spouse       5.372064e+01\n",
       "parent                      1.794877e+00\n",
       "other.relatives             3.871101e+01\n",
       "nonrelatives                5.772298e+00\n",
       "unmarried.partner           2.118500e+00\n",
       "num.households1             8.215585e+05\n",
       "pct.fam.households          6.689236e+01\n",
       "pct.married.house           4.791525e+01\n",
       "pct.fem.house               1.389887e+01\n",
       "pct.nonfam.house            3.310764e+01\n",
       "pct.house.alone             2.710177e+01\n",
       "pop.15+.years               1.925969e+06\n",
       "pct.married                 4.687305e+01\n",
       "pct.widowed                 5.918237e+00\n",
       "pct.divorced                9.933456e+00\n",
       "pct.separated               2.202982e+00\n",
       "pct.never.married           3.507802e+01\n",
       "pop.25+.years               1.589585e+06\n",
       "educ.less.hs                1.392931e+01\n",
       "educ.hs.ged                 2.498854e+01\n",
       "educ.some.college           2.671489e+01\n",
       "educ.bach+                  3.435739e+01\n",
       "pop.30+.years               1.410880e+06\n",
       "pct.live.with.grandkids     4.115105e+00\n",
       "pct.responsible.grandkid    1.189974e+00\n",
       "dtype: float64"
      ]
     },
     "execution_count": 163,
     "metadata": {},
     "output_type": "execute_result"
    }
   ],
   "source": [
    "tester_cc.loc[tester_cc['hci.2yr'] > 1, census.columns.tolist()].mean().head(40)"
   ]
  },
  {
   "cell_type": "code",
   "execution_count": 155,
   "id": "c1d55208-39bb-4a0f-84ef-3f7ef52a057d",
   "metadata": {
    "tags": []
   },
   "outputs": [
    {
     "data": {
      "text/plain": [
       "total.population    1.237214e+06\n",
       "age.male            4.909939e+01\n",
       "age.female          5.090061e+01\n",
       "med.age             3.721251e+01\n",
       "pct.one.race        9.615722e+01\n",
       "pct.white           7.083124e+01\n",
       "pct.black           1.012809e+01\n",
       "pct.native.ind      6.026794e-01\n",
       "pct.asian           8.492507e+00\n",
       "pct.island          3.037920e-01\n",
       "dtype: float64"
      ]
     },
     "execution_count": 155,
     "metadata": {},
     "output_type": "execute_result"
    }
   ],
   "source": [
    "tester_cc.loc[tester_cc['hci.2yr'] < 1, census.columns.tolist()].mean().head(10)"
   ]
  },
  {
   "cell_type": "code",
   "execution_count": 135,
   "id": "ad680617-74a2-40db-8078-46c8832a3337",
   "metadata": {
    "tags": []
   },
   "outputs": [
    {
     "data": {
      "text/plain": [
       "DatetimeIndex(['2010-01-01', '2011-01-01', '2012-01-01', '2013-01-01',\n",
       "               '2014-01-01', '2015-01-01', '2010-01-01', '2011-01-01',\n",
       "               '2012-01-01', '2013-01-01',\n",
       "               ...\n",
       "               '2012-01-01', '2013-01-01', '2014-01-01', '2015-01-01',\n",
       "               '2010-01-01', '2011-01-01', '2012-01-01', '2013-01-01',\n",
       "               '2014-01-01', '2015-01-01'],\n",
       "              dtype='datetime64[ns]', length=2650, freq=None)"
      ]
     },
     "execution_count": 135,
     "metadata": {},
     "output_type": "execute_result"
    }
   ],
   "source": [
    "yearstr"
   ]
  },
  {
   "cell_type": "code",
   "execution_count": null,
   "id": "13b2e8c7-5f1e-428b-ad37-1022c79e7f87",
   "metadata": {},
   "outputs": [],
   "source": [
    "tester_cc"
   ]
  },
  {
   "cell_type": "code",
   "execution_count": 103,
   "id": "17af83dc-d32e-4b59-8d6d-b2e0c476cbad",
   "metadata": {
    "tags": []
   },
   "outputs": [
    {
     "data": {
      "text/plain": [
       "(0, 420)"
      ]
     },
     "execution_count": 103,
     "metadata": {},
     "output_type": "execute_result"
    }
   ],
   "source": [
    "tester_cc.loc[tester_cc['_merge'] != 'both'].shape"
   ]
  },
  {
   "cell_type": "code",
   "execution_count": 105,
   "id": "70321f8a-a1b0-480b-85f5-24f20c19b9f3",
   "metadata": {
    "tags": []
   },
   "outputs": [
    {
     "data": {
      "image/png": "[encoded data removed]",
      "text/plain": [
       "<Figure size 640x480 with 1 Axes>"
      ]
     },
     "metadata": {},
     "output_type": "display_data"
    }
   ],
   "source": [
    "fig, ax = plt.subplots()\n",
    "#finaldata2 = finaldata2.sample(1000)\n",
    "\n",
    "ax.scatter(tester_cc['non.hmo.mort.%'], tester_cc['hci.2yr'], s= tester_cc['medicare.enrollee']/500)\n",
    "\n",
    "\n",
    "plt.show()"
   ]
  },
  {
   "cell_type": "code",
   "execution_count": 199,
   "id": "e371b3ed-ce21-4424-801f-6d6d913ba7a0",
   "metadata": {
    "tags": []
   },
   "outputs": [
    {
     "data": {
      "image/png": "[encoded data removed]",
      "text/plain": [
       "<Figure size 640x480 with 1 Axes>"
      ]
     },
     "metadata": {},
     "output_type": "display_data"
    }
   ],
   "source": [
    "fig, ax = plt.subplots()\n",
    "\n",
    "ax.scatter(finaldata1['non.hmo.mort.%'], finaldata1['hci.2yr'], s = 1)\n",
    "\n",
    "\n",
    "plt.show()"
   ]
  },
  {
   "cell_type": "code",
   "execution_count": null,
   "id": "0f4d3cbf-201f-4f93-afed-769350850f2d",
   "metadata": {},
   "outputs": [],
   "source": []
  }
 ],
 "metadata": {
  "kernelspec": {
   "display_name": "Python 3 (ipykernel)",
   "language": "python",
   "name": "python3"
  },
  "language_info": {
   "codemirror_mode": {
    "name": "ipython",
    "version": 3
   },
   "file_extension": ".py",
   "mimetype": "text/x-python",
   "name": "python",
   "nbconvert_exporter": "python",
   "pygments_lexer": "ipython3",
   "version": "3.11.4"
  }
 },
 "nbformat": 4,
 "nbformat_minor": 5
}
